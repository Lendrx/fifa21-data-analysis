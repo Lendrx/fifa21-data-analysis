{
 "cells": [
  {
   "cell_type": "markdown",
   "metadata": {},
   "source": [
    "#### Hier bereinige ich die Daten basierend auf den Problemen, die ich in der ersten Untersuchung gefunden habe.Ich versuche, jeden Schritt gut zu dokumentieren, damit ich später nachvollziehen kann, was ich gemacht habe."
   ]
  },
  {
   "cell_type": "markdown",
   "metadata": {},
   "source": [
    "#### Importiere benötigte Bibliotheken"
   ]
  },
  {
   "cell_type": "code",
   "execution_count": 5,
   "metadata": {},
   "outputs": [],
   "source": [
    "import pandas as pd\n",
    "import numpy as np\n",
    "import re\n",
    "from datetime import datetime"
   ]
  },
  {
   "cell_type": "markdown",
   "metadata": {},
   "source": [
    "#### Originaldaten laden"
   ]
  },
  {
   "cell_type": "code",
   "execution_count": 6,
   "metadata": {},
   "outputs": [
    {
     "name": "stdout",
     "output_type": "stream",
     "text": [
      "Originaldaten haben 18944 Zeilen und 106 Spalten\n"
     ]
    }
   ],
   "source": [
    "df = pd.read_csv('../data/raw/players_21.csv')\n",
    "print(f\"Originaldaten haben {df.shape[0]} Zeilen und {df.shape[1]} Spalten\")"
   ]
  },
  {
   "cell_type": "markdown",
   "metadata": {},
   "source": [
    "## 1. Größe und Gewicht bereinigen"
   ]
  },
  {
   "cell_type": "code",
   "execution_count": 7,
   "metadata": {},
   "outputs": [],
   "source": [
    "def groesse_bereinigen(groesse_str):\n",
    "    \"\"\"Wandelt Größenangaben in Zentimeter um\"\"\"\n",
    "    if isinstance(groesse_str, str):\n",
    "        # Format ist z.B. \"6'2\" (6 Fuß 2 Inches)\n",
    "        fuss_inches = groesse_str.split(\"'\")\n",
    "        fuss = int(fuss_inches[0])\n",
    "        inches = int(fuss_inches[1].replace('\"', '')) if len(fuss_inches) > 1 else 0\n",
    "        return int((fuss * 30.48) + (inches * 2.54))  # Umrechnung in cm\n",
    "    return groesse_str"
   ]
  },
  {
   "cell_type": "code",
   "execution_count": 8,
   "metadata": {},
   "outputs": [],
   "source": [
    "def gewicht_bereinigen(gewicht_str):\n",
    "    \"\"\"Wandelt Gewichtsangaben in Kilogramm um\"\"\"\n",
    "    if isinstance(gewicht_str, str):\n",
    "        # Format ist z.B. \"170lbs\"\n",
    "        gewicht_lbs = int(gewicht_str.replace('lbs', ''))\n",
    "        return int(gewicht_lbs * 0.45359237)  # Umrechnung in kg\n",
    "    return gewicht_str"
   ]
  },
  {
   "cell_type": "code",
   "execution_count": 11,
   "metadata": {},
   "outputs": [
    {
     "name": "stdout",
     "output_type": "stream",
     "text": [
      "Bereinige Größe und Gewicht...\n"
     ]
    }
   ],
   "source": [
    "print(\"Bereinige Größe und Gewicht...\")\n",
    "df['Groesse_cm'] = df['height_cm'].apply(groesse_bereinigen)\n",
    "df['Gewicht_kg'] = df['weight_kg'].apply(gewicht_bereinigen)"
   ]
  },
  {
   "cell_type": "markdown",
   "metadata": {},
   "source": [
    "## 2. Geldbeträge bereinigen"
   ]
  },
  {
   "cell_type": "code",
   "execution_count": 12,
   "metadata": {},
   "outputs": [],
   "source": [
    "def geldbetrag_bereinigen(wert_str):\n",
    "    \"\"\"Wandelt Geldbeträge in Zahlen um\"\"\"\n",
    "    if isinstance(wert_str, str):\n",
    "        wert_str = wert_str.replace('€', '')\n",
    "        multiplikator = 1\n",
    "        \n",
    "        if 'M' in wert_str:  # Millionen\n",
    "            multiplikator = 1000000\n",
    "            wert_str = wert_str.replace('M', '')\n",
    "        elif 'K' in wert_str:  # Tausend\n",
    "            multiplikator = 1000\n",
    "            wert_str = wert_str.replace('K', '')\n",
    "            \n",
    "        return float(wert_str) * multiplikator\n",
    "    return wert_str"
   ]
  },
  {
   "cell_type": "code",
   "execution_count": 17,
   "metadata": {},
   "outputs": [
    {
     "name": "stdout",
     "output_type": "stream",
     "text": [
      "Bereinige Geldbeträge...\n"
     ]
    }
   ],
   "source": [
    "print(\"Bereinige Geldbeträge...\")\n",
    "df['Marktwert_EUR'] = df['value_eur'].apply(geldbetrag_bereinigen)\n",
    "df['Gehalt_EUR'] = df['wage_eur'].apply(geldbetrag_bereinigen)\n",
    "df['Ausstiegsklausel_EUR'] = df['release_clause_eur'].apply(geldbetrag_bereinigen)"
   ]
  },
  {
   "cell_type": "markdown",
   "metadata": {},
   "source": [
    "## 3. Team und Vertrag aufteilen"
   ]
  },
  {
   "cell_type": "code",
   "execution_count": null,
   "metadata": {},
   "outputs": [],
   "source": [
    "def team_vertrag_aufteilen(team_vertrag):\n",
    "    \"\"\"Teilt Team- und Vertragsinformationen auf\"\"\"\n",
    "    if pd.isna(team_vertrag):\n",
    "        return pd.Series({'club_name': None, 'joined': None, 'contract_valid_until': None})\n",
    "    \n",
    "    teile = team_vertrag.split(' ')\n",
    "    team = ' '.join(teile[:-2])\n",
    "    vertragsjahre = teile[-1]\n",
    "    \n",
    "    try:\n",
    "        start_jahr, end_jahr = vertragsjahre.split('~')\n",
    "        return pd.Series({\n",
    "            'club_name': team.strip(),\n",
    "            'joined': start_jahr.strip(),\n",
    "            'contract_valid_until': end_jahr.strip()\n",
    "        })\n",
    "    except:\n",
    "        return pd.Series({'club_name': team.strip(), 'joined': None, 'contract_valid_until': None})\n"
   ]
  },
  {
   "cell_type": "code",
   "execution_count": 57,
   "metadata": {},
   "outputs": [
    {
     "name": "stdout",
     "output_type": "stream",
     "text": [
      "Teile Team und Vertragsinformationen auf...\n"
     ]
    },
    {
     "ename": "KeyError",
     "evalue": "'Team & Contract'",
     "output_type": "error",
     "traceback": [
      "\u001b[0;31m---------------------------------------------------------------------------\u001b[0m",
      "\u001b[0;31mKeyError\u001b[0m                                  Traceback (most recent call last)",
      "File \u001b[0;32m/opt/anaconda3/envs/EnvScience/lib/python3.12/site-packages/pandas/core/indexes/base.py:3805\u001b[0m, in \u001b[0;36mIndex.get_loc\u001b[0;34m(self, key)\u001b[0m\n\u001b[1;32m   3804\u001b[0m \u001b[38;5;28;01mtry\u001b[39;00m:\n\u001b[0;32m-> 3805\u001b[0m     \u001b[38;5;28;01mreturn\u001b[39;00m \u001b[38;5;28mself\u001b[39m\u001b[38;5;241m.\u001b[39m_engine\u001b[38;5;241m.\u001b[39mget_loc(casted_key)\n\u001b[1;32m   3806\u001b[0m \u001b[38;5;28;01mexcept\u001b[39;00m \u001b[38;5;167;01mKeyError\u001b[39;00m \u001b[38;5;28;01mas\u001b[39;00m err:\n",
      "File \u001b[0;32mindex.pyx:167\u001b[0m, in \u001b[0;36mpandas._libs.index.IndexEngine.get_loc\u001b[0;34m()\u001b[0m\n",
      "File \u001b[0;32mindex.pyx:196\u001b[0m, in \u001b[0;36mpandas._libs.index.IndexEngine.get_loc\u001b[0;34m()\u001b[0m\n",
      "File \u001b[0;32mpandas/_libs/hashtable_class_helper.pxi:7081\u001b[0m, in \u001b[0;36mpandas._libs.hashtable.PyObjectHashTable.get_item\u001b[0;34m()\u001b[0m\n",
      "File \u001b[0;32mpandas/_libs/hashtable_class_helper.pxi:7089\u001b[0m, in \u001b[0;36mpandas._libs.hashtable.PyObjectHashTable.get_item\u001b[0;34m()\u001b[0m\n",
      "\u001b[0;31mKeyError\u001b[0m: 'Team & Contract'",
      "\nThe above exception was the direct cause of the following exception:\n",
      "\u001b[0;31mKeyError\u001b[0m                                  Traceback (most recent call last)",
      "Cell \u001b[0;32mIn[57], line 2\u001b[0m\n\u001b[1;32m      1\u001b[0m \u001b[38;5;28mprint\u001b[39m(\u001b[38;5;124m\"\u001b[39m\u001b[38;5;124mTeile Team und Vertragsinformationen auf...\u001b[39m\u001b[38;5;124m\"\u001b[39m)\n\u001b[0;32m----> 2\u001b[0m df[[\u001b[38;5;124m'\u001b[39m\u001b[38;5;124mTeam\u001b[39m\u001b[38;5;124m'\u001b[39m, \u001b[38;5;124m'\u001b[39m\u001b[38;5;124mVertrag_Start\u001b[39m\u001b[38;5;124m'\u001b[39m, \u001b[38;5;124m'\u001b[39m\u001b[38;5;124mVertrag_Ende\u001b[39m\u001b[38;5;124m'\u001b[39m]] \u001b[38;5;241m=\u001b[39m df[\u001b[38;5;124m'\u001b[39m\u001b[38;5;124mTeam & Contract\u001b[39m\u001b[38;5;124m'\u001b[39m]\u001b[38;5;241m.\u001b[39mapply(team_vertrag_aufteilen)\n",
      "File \u001b[0;32m/opt/anaconda3/envs/EnvScience/lib/python3.12/site-packages/pandas/core/frame.py:4102\u001b[0m, in \u001b[0;36mDataFrame.__getitem__\u001b[0;34m(self, key)\u001b[0m\n\u001b[1;32m   4100\u001b[0m \u001b[38;5;28;01mif\u001b[39;00m \u001b[38;5;28mself\u001b[39m\u001b[38;5;241m.\u001b[39mcolumns\u001b[38;5;241m.\u001b[39mnlevels \u001b[38;5;241m>\u001b[39m \u001b[38;5;241m1\u001b[39m:\n\u001b[1;32m   4101\u001b[0m     \u001b[38;5;28;01mreturn\u001b[39;00m \u001b[38;5;28mself\u001b[39m\u001b[38;5;241m.\u001b[39m_getitem_multilevel(key)\n\u001b[0;32m-> 4102\u001b[0m indexer \u001b[38;5;241m=\u001b[39m \u001b[38;5;28mself\u001b[39m\u001b[38;5;241m.\u001b[39mcolumns\u001b[38;5;241m.\u001b[39mget_loc(key)\n\u001b[1;32m   4103\u001b[0m \u001b[38;5;28;01mif\u001b[39;00m is_integer(indexer):\n\u001b[1;32m   4104\u001b[0m     indexer \u001b[38;5;241m=\u001b[39m [indexer]\n",
      "File \u001b[0;32m/opt/anaconda3/envs/EnvScience/lib/python3.12/site-packages/pandas/core/indexes/base.py:3812\u001b[0m, in \u001b[0;36mIndex.get_loc\u001b[0;34m(self, key)\u001b[0m\n\u001b[1;32m   3807\u001b[0m     \u001b[38;5;28;01mif\u001b[39;00m \u001b[38;5;28misinstance\u001b[39m(casted_key, \u001b[38;5;28mslice\u001b[39m) \u001b[38;5;129;01mor\u001b[39;00m (\n\u001b[1;32m   3808\u001b[0m         \u001b[38;5;28misinstance\u001b[39m(casted_key, abc\u001b[38;5;241m.\u001b[39mIterable)\n\u001b[1;32m   3809\u001b[0m         \u001b[38;5;129;01mand\u001b[39;00m \u001b[38;5;28many\u001b[39m(\u001b[38;5;28misinstance\u001b[39m(x, \u001b[38;5;28mslice\u001b[39m) \u001b[38;5;28;01mfor\u001b[39;00m x \u001b[38;5;129;01min\u001b[39;00m casted_key)\n\u001b[1;32m   3810\u001b[0m     ):\n\u001b[1;32m   3811\u001b[0m         \u001b[38;5;28;01mraise\u001b[39;00m InvalidIndexError(key)\n\u001b[0;32m-> 3812\u001b[0m     \u001b[38;5;28;01mraise\u001b[39;00m \u001b[38;5;167;01mKeyError\u001b[39;00m(key) \u001b[38;5;28;01mfrom\u001b[39;00m \u001b[38;5;21;01merr\u001b[39;00m\n\u001b[1;32m   3813\u001b[0m \u001b[38;5;28;01mexcept\u001b[39;00m \u001b[38;5;167;01mTypeError\u001b[39;00m:\n\u001b[1;32m   3814\u001b[0m     \u001b[38;5;66;03m# If we have a listlike key, _check_indexing_error will raise\u001b[39;00m\n\u001b[1;32m   3815\u001b[0m     \u001b[38;5;66;03m#  InvalidIndexError. Otherwise we fall through and re-raise\u001b[39;00m\n\u001b[1;32m   3816\u001b[0m     \u001b[38;5;66;03m#  the TypeError.\u001b[39;00m\n\u001b[1;32m   3817\u001b[0m     \u001b[38;5;28mself\u001b[39m\u001b[38;5;241m.\u001b[39m_check_indexing_error(key)\n",
      "\u001b[0;31mKeyError\u001b[0m: 'Team & Contract'"
     ]
    }
   ],
   "source": [
    "print(\"Teile Team und Vertragsinformationen auf...\")\n",
    "df[['Team', 'Vertrag_Start', 'Vertrag_Ende']] = df['Team & Contract'].apply(team_vertrag_aufteilen)"
   ]
  },
  {
   "cell_type": "markdown",
   "metadata": {},
   "source": [
    "## 4. Hits-Spalte bereinigen"
   ]
  },
  {
   "cell_type": "code",
   "execution_count": 35,
   "metadata": {},
   "outputs": [],
   "source": [
    "# print(\"Bereinige die Hits-Spalte...\")\n",
    "# df['Hits_Bereinigt'] = df['hits'].str.replace('\\n', ' ').str.strip()"
   ]
  },
  {
   "cell_type": "markdown",
   "metadata": {},
   "source": []
  },
  {
   "cell_type": "markdown",
   "metadata": {},
   "source": [
    "## 5. Fehlende Werte behandeln"
   ]
  },
  {
   "cell_type": "code",
   "execution_count": 36,
   "metadata": {},
   "outputs": [
    {
     "name": "stdout",
     "output_type": "stream",
     "text": [
      "Behandle fehlende Werte...\n"
     ]
    }
   ],
   "source": [
    "print(\"Behandle fehlende Werte...\")\n",
    "numerische_spalten = df.select_dtypes(include=[np.number]).columns\n",
    "df[numerische_spalten] = df[numerische_spalten].fillna(0)"
   ]
  },
  {
   "cell_type": "markdown",
   "metadata": {},
   "source": [
    "## 6. Datumsangaben vereinheitlichen"
   ]
  },
  {
   "cell_type": "code",
   "execution_count": 37,
   "metadata": {},
   "outputs": [],
   "source": [
    "def beitrittsdatum_bereinigen(datum_str):\n",
    "    \"\"\"Vereinheitlicht Datumsangaben\"\"\"\n",
    "    if pd.isna(datum_str):\n",
    "        return None\n",
    "    try:\n",
    "        return pd.to_datetime(datum_str).strftime('%Y-%m-%d')\n",
    "    except:\n",
    "        return None"
   ]
  },
  {
   "cell_type": "code",
   "execution_count": 39,
   "metadata": {},
   "outputs": [
    {
     "name": "stdout",
     "output_type": "stream",
     "text": [
      "Vereinheitliche Datumsangaben...\n"
     ]
    }
   ],
   "source": [
    "print(\"Vereinheitliche Datumsangaben...\")\n",
    "df['Beitrittsdatum'] = df['joined'].apply(beitrittsdatum_bereinigen)"
   ]
  },
  {
   "cell_type": "markdown",
   "metadata": {},
   "source": [
    "## 7. Abschließende Bereinigung"
   ]
  },
  {
   "cell_type": "code",
   "execution_count": 49,
   "metadata": {},
   "outputs": [
    {
     "name": "stdout",
     "output_type": "stream",
     "text": [
      "Führe abschließende Bereinigung durch...\n"
     ]
    }
   ],
   "source": [
    "print(\"Führe abschließende Bereinigung durch...\")\n",
    "zu_loeschende_spalten = ['height_cm', 'weight_kg', 'value_eur', 'wage_eur', 'release_clause_eur']\n",
    "df_bereinigt = df.drop(columns=zu_loeschende_spalten)"
   ]
  },
  {
   "cell_type": "markdown",
   "metadata": {},
   "source": [
    "#### Bereinigte Daten speichern"
   ]
  },
  {
   "cell_type": "code",
   "execution_count": 50,
   "metadata": {},
   "outputs": [
    {
     "name": "stdout",
     "output_type": "stream",
     "text": [
      "Speichere bereinigte Daten...\n",
      "Bereinigung abgeschlossen!\n"
     ]
    }
   ],
   "source": [
    "print(\"Speichere bereinigte Daten...\")\n",
    "df_bereinigt.to_csv('../data/processed/fifa21_bereinigt.csv', index=False)\n",
    "print(\"Bereinigung abgeschlossen!\")"
   ]
  },
  {
   "cell_type": "markdown",
   "metadata": {},
   "source": [
    "#### Beispiel der bereinigten Daten zeigen"
   ]
  },
  {
   "cell_type": "code",
   "execution_count": 51,
   "metadata": {},
   "outputs": [
    {
     "name": "stdout",
     "output_type": "stream",
     "text": [
      "\n",
      "Beispiel der bereinigten Daten:\n"
     ]
    },
    {
     "data": {
      "text/html": [
       "<div>\n",
       "<style scoped>\n",
       "    .dataframe tbody tr th:only-of-type {\n",
       "        vertical-align: middle;\n",
       "    }\n",
       "\n",
       "    .dataframe tbody tr th {\n",
       "        vertical-align: top;\n",
       "    }\n",
       "\n",
       "    .dataframe thead th {\n",
       "        text-align: right;\n",
       "    }\n",
       "</style>\n",
       "<table border=\"1\" class=\"dataframe\">\n",
       "  <thead>\n",
       "    <tr style=\"text-align: right;\">\n",
       "      <th></th>\n",
       "      <th>sofifa_id</th>\n",
       "      <th>player_url</th>\n",
       "      <th>short_name</th>\n",
       "      <th>long_name</th>\n",
       "      <th>age</th>\n",
       "      <th>dob</th>\n",
       "      <th>nationality</th>\n",
       "      <th>club_name</th>\n",
       "      <th>league_name</th>\n",
       "      <th>league_rank</th>\n",
       "      <th>...</th>\n",
       "      <th>lcb</th>\n",
       "      <th>cb</th>\n",
       "      <th>rcb</th>\n",
       "      <th>rb</th>\n",
       "      <th>Groesse_cm</th>\n",
       "      <th>Gewicht_kg</th>\n",
       "      <th>Marktwert_EUR</th>\n",
       "      <th>Gehalt_EUR</th>\n",
       "      <th>Ausstiegsklausel_EUR</th>\n",
       "      <th>Beitrittsdatum</th>\n",
       "    </tr>\n",
       "  </thead>\n",
       "  <tbody>\n",
       "    <tr>\n",
       "      <th>0</th>\n",
       "      <td>158023</td>\n",
       "      <td>https://sofifa.com/player/158023/lionel-messi/...</td>\n",
       "      <td>L. Messi</td>\n",
       "      <td>Lionel Andrés Messi Cuccittini</td>\n",
       "      <td>33</td>\n",
       "      <td>1987-06-24</td>\n",
       "      <td>Argentina</td>\n",
       "      <td>FC Barcelona</td>\n",
       "      <td>Spain Primera Division</td>\n",
       "      <td>1.0</td>\n",
       "      <td>...</td>\n",
       "      <td>52+3</td>\n",
       "      <td>52+3</td>\n",
       "      <td>52+3</td>\n",
       "      <td>62+3</td>\n",
       "      <td>170</td>\n",
       "      <td>72</td>\n",
       "      <td>67500000</td>\n",
       "      <td>560000</td>\n",
       "      <td>138400000.0</td>\n",
       "      <td>2004-07-01</td>\n",
       "    </tr>\n",
       "    <tr>\n",
       "      <th>1</th>\n",
       "      <td>20801</td>\n",
       "      <td>https://sofifa.com/player/20801/c-ronaldo-dos-...</td>\n",
       "      <td>Cristiano Ronaldo</td>\n",
       "      <td>Cristiano Ronaldo dos Santos Aveiro</td>\n",
       "      <td>35</td>\n",
       "      <td>1985-02-05</td>\n",
       "      <td>Portugal</td>\n",
       "      <td>Juventus</td>\n",
       "      <td>Italian Serie A</td>\n",
       "      <td>1.0</td>\n",
       "      <td>...</td>\n",
       "      <td>54+3</td>\n",
       "      <td>54+3</td>\n",
       "      <td>54+3</td>\n",
       "      <td>61+3</td>\n",
       "      <td>187</td>\n",
       "      <td>83</td>\n",
       "      <td>46000000</td>\n",
       "      <td>220000</td>\n",
       "      <td>75900000.0</td>\n",
       "      <td>2018-07-10</td>\n",
       "    </tr>\n",
       "    <tr>\n",
       "      <th>2</th>\n",
       "      <td>200389</td>\n",
       "      <td>https://sofifa.com/player/200389/jan-oblak/210002</td>\n",
       "      <td>J. Oblak</td>\n",
       "      <td>Jan Oblak</td>\n",
       "      <td>27</td>\n",
       "      <td>1993-01-07</td>\n",
       "      <td>Slovenia</td>\n",
       "      <td>Atlético Madrid</td>\n",
       "      <td>Spain Primera Division</td>\n",
       "      <td>1.0</td>\n",
       "      <td>...</td>\n",
       "      <td>33+3</td>\n",
       "      <td>33+3</td>\n",
       "      <td>33+3</td>\n",
       "      <td>32+3</td>\n",
       "      <td>188</td>\n",
       "      <td>87</td>\n",
       "      <td>75000000</td>\n",
       "      <td>125000</td>\n",
       "      <td>159400000.0</td>\n",
       "      <td>2014-07-16</td>\n",
       "    </tr>\n",
       "    <tr>\n",
       "      <th>3</th>\n",
       "      <td>188545</td>\n",
       "      <td>https://sofifa.com/player/188545/robert-lewand...</td>\n",
       "      <td>R. Lewandowski</td>\n",
       "      <td>Robert Lewandowski</td>\n",
       "      <td>31</td>\n",
       "      <td>1988-08-21</td>\n",
       "      <td>Poland</td>\n",
       "      <td>FC Bayern München</td>\n",
       "      <td>German 1. Bundesliga</td>\n",
       "      <td>1.0</td>\n",
       "      <td>...</td>\n",
       "      <td>60+3</td>\n",
       "      <td>60+3</td>\n",
       "      <td>60+3</td>\n",
       "      <td>61+3</td>\n",
       "      <td>184</td>\n",
       "      <td>80</td>\n",
       "      <td>80000000</td>\n",
       "      <td>240000</td>\n",
       "      <td>132000000.0</td>\n",
       "      <td>2014-07-01</td>\n",
       "    </tr>\n",
       "    <tr>\n",
       "      <th>4</th>\n",
       "      <td>190871</td>\n",
       "      <td>https://sofifa.com/player/190871/neymar-da-sil...</td>\n",
       "      <td>Neymar Jr</td>\n",
       "      <td>Neymar da Silva Santos Júnior</td>\n",
       "      <td>28</td>\n",
       "      <td>1992-02-05</td>\n",
       "      <td>Brazil</td>\n",
       "      <td>Paris Saint-Germain</td>\n",
       "      <td>French Ligue 1</td>\n",
       "      <td>1.0</td>\n",
       "      <td>...</td>\n",
       "      <td>49+3</td>\n",
       "      <td>49+3</td>\n",
       "      <td>49+3</td>\n",
       "      <td>62+3</td>\n",
       "      <td>175</td>\n",
       "      <td>68</td>\n",
       "      <td>90000000</td>\n",
       "      <td>270000</td>\n",
       "      <td>166500000.0</td>\n",
       "      <td>2017-08-03</td>\n",
       "    </tr>\n",
       "  </tbody>\n",
       "</table>\n",
       "<p>5 rows × 107 columns</p>\n",
       "</div>"
      ],
      "text/plain": [
       "   sofifa_id                                         player_url  \\\n",
       "0     158023  https://sofifa.com/player/158023/lionel-messi/...   \n",
       "1      20801  https://sofifa.com/player/20801/c-ronaldo-dos-...   \n",
       "2     200389  https://sofifa.com/player/200389/jan-oblak/210002   \n",
       "3     188545  https://sofifa.com/player/188545/robert-lewand...   \n",
       "4     190871  https://sofifa.com/player/190871/neymar-da-sil...   \n",
       "\n",
       "          short_name                            long_name  age         dob  \\\n",
       "0           L. Messi       Lionel Andrés Messi Cuccittini   33  1987-06-24   \n",
       "1  Cristiano Ronaldo  Cristiano Ronaldo dos Santos Aveiro   35  1985-02-05   \n",
       "2           J. Oblak                            Jan Oblak   27  1993-01-07   \n",
       "3     R. Lewandowski                   Robert Lewandowski   31  1988-08-21   \n",
       "4          Neymar Jr        Neymar da Silva Santos Júnior   28  1992-02-05   \n",
       "\n",
       "  nationality            club_name             league_name  league_rank  ...  \\\n",
       "0   Argentina         FC Barcelona  Spain Primera Division          1.0  ...   \n",
       "1    Portugal             Juventus         Italian Serie A          1.0  ...   \n",
       "2    Slovenia      Atlético Madrid  Spain Primera Division          1.0  ...   \n",
       "3      Poland    FC Bayern München    German 1. Bundesliga          1.0  ...   \n",
       "4      Brazil  Paris Saint-Germain          French Ligue 1          1.0  ...   \n",
       "\n",
       "    lcb    cb   rcb    rb  Groesse_cm  Gewicht_kg  Marktwert_EUR Gehalt_EUR  \\\n",
       "0  52+3  52+3  52+3  62+3         170          72       67500000     560000   \n",
       "1  54+3  54+3  54+3  61+3         187          83       46000000     220000   \n",
       "2  33+3  33+3  33+3  32+3         188          87       75000000     125000   \n",
       "3  60+3  60+3  60+3  61+3         184          80       80000000     240000   \n",
       "4  49+3  49+3  49+3  62+3         175          68       90000000     270000   \n",
       "\n",
       "  Ausstiegsklausel_EUR Beitrittsdatum  \n",
       "0          138400000.0     2004-07-01  \n",
       "1           75900000.0     2018-07-10  \n",
       "2          159400000.0     2014-07-16  \n",
       "3          132000000.0     2014-07-01  \n",
       "4          166500000.0     2017-08-03  \n",
       "\n",
       "[5 rows x 107 columns]"
      ]
     },
     "metadata": {},
     "output_type": "display_data"
    }
   ],
   "source": [
    "print(\"\\nBeispiel der bereinigten Daten:\")\n",
    "display(df_bereinigt.head())"
   ]
  },
  {
   "cell_type": "markdown",
   "metadata": {},
   "source": [
    "### Zusammenfassung der Änderungen"
   ]
  },
  {
   "cell_type": "code",
   "execution_count": 53,
   "metadata": {},
   "outputs": [
    {
     "name": "stdout",
     "output_type": "stream",
     "text": [
      "\n",
      "Zusammenfassung der Bereinigung:\n",
      "Ursprüngliche Spalten: 112\n",
      "Bereinigte Spalten: 107\n",
      "\n",
      "Neue Spalten:\n",
      "- Groesse_cm\n",
      "- Gewicht_kg\n",
      "- Marktwert_EUR\n",
      "- Gehalt_EUR\n",
      "- Ausstiegsklausel_EUR\n",
      "- Team\n",
      "- Vertrag_Start\n",
      "- Vertrag_Ende\n",
      "- Hits_Bereinigt\n",
      "- Beitrittsdatum\n",
      "\n",
      "Ich habe die Daten jetzt so aufbereitet, dass man den shit besser analysieren kann!\n"
     ]
    }
   ],
   "source": [
    "print(\"\\nZusammenfassung der Bereinigung:\")\n",
    "print(f\"Ursprüngliche Spalten: {len(df.columns)}\")\n",
    "print(f\"Bereinigte Spalten: {len(df_bereinigt.columns)}\")\n",
    "print(\"\\nNeue Spalten:\")\n",
    "neue_spalten = ['Groesse_cm', 'Gewicht_kg', 'Marktwert_EUR', 'Gehalt_EUR', 'Ausstiegsklausel_EUR', \n",
    "               'Team', 'Vertrag_Start', 'Vertrag_Ende', 'Hits_Bereinigt', 'Beitrittsdatum']\n",
    "for spalte in neue_spalten:\n",
    "    print(f\"- {spalte}\")\n",
    "\n",
    "print(\"\\nIch habe die Daten jetzt so aufbereitet, dass man den shit besser analysieren kann!\")"
   ]
  }
 ],
 "metadata": {
  "kernelspec": {
   "display_name": "EnvScience",
   "language": "python",
   "name": "python3"
  },
  "language_info": {
   "codemirror_mode": {
    "name": "ipython",
    "version": 3
   },
   "file_extension": ".py",
   "mimetype": "text/x-python",
   "name": "python",
   "nbconvert_exporter": "python",
   "pygments_lexer": "ipython3",
   "version": "3.12.2"
  }
 },
 "nbformat": 4,
 "nbformat_minor": 2
}
