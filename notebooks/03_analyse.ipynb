{
 "cells": [
  {
   "cell_type": "markdown",
   "metadata": {},
   "source": [
    "#### Hier analysiere ich die bereinigten FIFA 21 Daten. Ich möchte interessante Erkenntnisse über Spieler, Teams und Marktwerte finden."
   ]
  },
  {
   "cell_type": "markdown",
   "metadata": {},
   "source": [
    "#### Importiere benötigte Bibliotheken"
   ]
  },
  {
   "cell_type": "code",
   "execution_count": 96,
   "metadata": {},
   "outputs": [],
   "source": [
    "import pandas as pd\n",
    "import numpy as np\n",
    "import matplotlib.pyplot as plt\n",
    "import seaborn as sns\n",
    "from scipy import stats"
   ]
  },
  {
   "cell_type": "markdown",
   "metadata": {},
   "source": [
    "### Setze grundlegende Plot-Einstellungen"
   ]
  },
  {
   "cell_type": "code",
   "execution_count": 97,
   "metadata": {},
   "outputs": [],
   "source": [
    "sns.set_theme()  # Seaborn Theme aktivieren\n",
    "plt.rcParams['figure.figsize'] = [10, 6]\n",
    "plt.rcParams['figure.dpi'] = 100\n",
    "pd.set_option('display.max_columns', None)"
   ]
  },
  {
   "cell_type": "markdown",
   "metadata": {},
   "source": [
    "### Entspanntere Darstellung: in Jupyter"
   ]
  },
  {
   "cell_type": "code",
   "execution_count": 98,
   "metadata": {},
   "outputs": [],
   "source": [
    "%matplotlib inline\n",
    "pd.set_option('display.max_columns', None)"
   ]
  },
  {
   "cell_type": "markdown",
   "metadata": {},
   "source": [
    "### Bereinigte Daten laden"
   ]
  },
  {
   "cell_type": "code",
   "execution_count": 99,
   "metadata": {},
   "outputs": [
    {
     "name": "stdout",
     "output_type": "stream",
     "text": [
      "Datensatz hat 18944 Zeilen und 107 Spalten\n"
     ]
    }
   ],
   "source": [
    "df = pd.read_csv('../data/processed/fifa21_bereinigt.csv')\n",
    "print(f\"Datensatz hat {df.shape[0]} Zeilen und {df.shape[1]} Spalten\")"
   ]
  },
  {
   "cell_type": "code",
   "execution_count": 100,
   "metadata": {},
   "outputs": [
    {
     "data": {
      "text/html": [
       "<div>\n",
       "<style scoped>\n",
       "    .dataframe tbody tr th:only-of-type {\n",
       "        vertical-align: middle;\n",
       "    }\n",
       "\n",
       "    .dataframe tbody tr th {\n",
       "        vertical-align: top;\n",
       "    }\n",
       "\n",
       "    .dataframe thead th {\n",
       "        text-align: right;\n",
       "    }\n",
       "</style>\n",
       "<table border=\"1\" class=\"dataframe\">\n",
       "  <thead>\n",
       "    <tr style=\"text-align: right;\">\n",
       "      <th></th>\n",
       "      <th>sofifa_id</th>\n",
       "      <th>player_url</th>\n",
       "      <th>short_name</th>\n",
       "      <th>long_name</th>\n",
       "      <th>age</th>\n",
       "      <th>dob</th>\n",
       "      <th>nationality</th>\n",
       "      <th>club_name</th>\n",
       "      <th>league_name</th>\n",
       "      <th>league_rank</th>\n",
       "      <th>overall</th>\n",
       "      <th>potential</th>\n",
       "      <th>player_positions</th>\n",
       "      <th>preferred_foot</th>\n",
       "      <th>international_reputation</th>\n",
       "      <th>weak_foot</th>\n",
       "      <th>skill_moves</th>\n",
       "      <th>work_rate</th>\n",
       "      <th>body_type</th>\n",
       "      <th>real_face</th>\n",
       "      <th>player_tags</th>\n",
       "      <th>team_position</th>\n",
       "      <th>team_jersey_number</th>\n",
       "      <th>loaned_from</th>\n",
       "      <th>joined</th>\n",
       "      <th>contract_valid_until</th>\n",
       "      <th>nation_position</th>\n",
       "      <th>nation_jersey_number</th>\n",
       "      <th>pace</th>\n",
       "      <th>shooting</th>\n",
       "      <th>passing</th>\n",
       "      <th>dribbling</th>\n",
       "      <th>defending</th>\n",
       "      <th>physic</th>\n",
       "      <th>gk_diving</th>\n",
       "      <th>gk_handling</th>\n",
       "      <th>gk_kicking</th>\n",
       "      <th>gk_reflexes</th>\n",
       "      <th>gk_speed</th>\n",
       "      <th>gk_positioning</th>\n",
       "      <th>player_traits</th>\n",
       "      <th>attacking_crossing</th>\n",
       "      <th>attacking_finishing</th>\n",
       "      <th>attacking_heading_accuracy</th>\n",
       "      <th>attacking_short_passing</th>\n",
       "      <th>attacking_volleys</th>\n",
       "      <th>skill_dribbling</th>\n",
       "      <th>skill_curve</th>\n",
       "      <th>skill_fk_accuracy</th>\n",
       "      <th>skill_long_passing</th>\n",
       "      <th>skill_ball_control</th>\n",
       "      <th>movement_acceleration</th>\n",
       "      <th>movement_sprint_speed</th>\n",
       "      <th>movement_agility</th>\n",
       "      <th>movement_reactions</th>\n",
       "      <th>movement_balance</th>\n",
       "      <th>power_shot_power</th>\n",
       "      <th>power_jumping</th>\n",
       "      <th>power_stamina</th>\n",
       "      <th>power_strength</th>\n",
       "      <th>power_long_shots</th>\n",
       "      <th>mentality_aggression</th>\n",
       "      <th>mentality_interceptions</th>\n",
       "      <th>mentality_positioning</th>\n",
       "      <th>mentality_vision</th>\n",
       "      <th>mentality_penalties</th>\n",
       "      <th>mentality_composure</th>\n",
       "      <th>defending_marking</th>\n",
       "      <th>defending_standing_tackle</th>\n",
       "      <th>defending_sliding_tackle</th>\n",
       "      <th>goalkeeping_diving</th>\n",
       "      <th>goalkeeping_handling</th>\n",
       "      <th>goalkeeping_kicking</th>\n",
       "      <th>goalkeeping_positioning</th>\n",
       "      <th>goalkeeping_reflexes</th>\n",
       "      <th>ls</th>\n",
       "      <th>st</th>\n",
       "      <th>rs</th>\n",
       "      <th>lw</th>\n",
       "      <th>lf</th>\n",
       "      <th>cf</th>\n",
       "      <th>rf</th>\n",
       "      <th>rw</th>\n",
       "      <th>lam</th>\n",
       "      <th>cam</th>\n",
       "      <th>ram</th>\n",
       "      <th>lm</th>\n",
       "      <th>lcm</th>\n",
       "      <th>cm</th>\n",
       "      <th>rcm</th>\n",
       "      <th>rm</th>\n",
       "      <th>lwb</th>\n",
       "      <th>ldm</th>\n",
       "      <th>cdm</th>\n",
       "      <th>rdm</th>\n",
       "      <th>rwb</th>\n",
       "      <th>lb</th>\n",
       "      <th>lcb</th>\n",
       "      <th>cb</th>\n",
       "      <th>rcb</th>\n",
       "      <th>rb</th>\n",
       "      <th>Groesse_cm</th>\n",
       "      <th>Gewicht_kg</th>\n",
       "      <th>Marktwert_EUR</th>\n",
       "      <th>Gehalt_EUR</th>\n",
       "      <th>Ausstiegsklausel_EUR</th>\n",
       "      <th>Beitrittsdatum</th>\n",
       "    </tr>\n",
       "  </thead>\n",
       "  <tbody>\n",
       "    <tr>\n",
       "      <th>0</th>\n",
       "      <td>158023</td>\n",
       "      <td>https://sofifa.com/player/158023/lionel-messi/...</td>\n",
       "      <td>L. Messi</td>\n",
       "      <td>Lionel Andrés Messi Cuccittini</td>\n",
       "      <td>33</td>\n",
       "      <td>1987-06-24</td>\n",
       "      <td>Argentina</td>\n",
       "      <td>FC Barcelona</td>\n",
       "      <td>Spain Primera Division</td>\n",
       "      <td>1.0</td>\n",
       "      <td>93</td>\n",
       "      <td>93</td>\n",
       "      <td>RW, ST, CF</td>\n",
       "      <td>Left</td>\n",
       "      <td>5</td>\n",
       "      <td>4</td>\n",
       "      <td>4</td>\n",
       "      <td>Medium/Low</td>\n",
       "      <td>Messi</td>\n",
       "      <td>Yes</td>\n",
       "      <td>#Dribbler, #Distance Shooter, #FK Specialist, ...</td>\n",
       "      <td>CAM</td>\n",
       "      <td>10.0</td>\n",
       "      <td>NaN</td>\n",
       "      <td>2004-07-01</td>\n",
       "      <td>2021.0</td>\n",
       "      <td>RW</td>\n",
       "      <td>10.0</td>\n",
       "      <td>85.0</td>\n",
       "      <td>92.0</td>\n",
       "      <td>91.0</td>\n",
       "      <td>95.0</td>\n",
       "      <td>38.0</td>\n",
       "      <td>65.0</td>\n",
       "      <td>0.0</td>\n",
       "      <td>0.0</td>\n",
       "      <td>0.0</td>\n",
       "      <td>0.0</td>\n",
       "      <td>0.0</td>\n",
       "      <td>0.0</td>\n",
       "      <td>Finesse Shot, Long Shot Taker (AI), Speed Drib...</td>\n",
       "      <td>85</td>\n",
       "      <td>95</td>\n",
       "      <td>70</td>\n",
       "      <td>91</td>\n",
       "      <td>88</td>\n",
       "      <td>96</td>\n",
       "      <td>93</td>\n",
       "      <td>94</td>\n",
       "      <td>91</td>\n",
       "      <td>96</td>\n",
       "      <td>91</td>\n",
       "      <td>80</td>\n",
       "      <td>91</td>\n",
       "      <td>94</td>\n",
       "      <td>95</td>\n",
       "      <td>86</td>\n",
       "      <td>68</td>\n",
       "      <td>72</td>\n",
       "      <td>69</td>\n",
       "      <td>94</td>\n",
       "      <td>44</td>\n",
       "      <td>40</td>\n",
       "      <td>93</td>\n",
       "      <td>95</td>\n",
       "      <td>75</td>\n",
       "      <td>96</td>\n",
       "      <td>0.0</td>\n",
       "      <td>35</td>\n",
       "      <td>24</td>\n",
       "      <td>6</td>\n",
       "      <td>11</td>\n",
       "      <td>15</td>\n",
       "      <td>14</td>\n",
       "      <td>8</td>\n",
       "      <td>89+3</td>\n",
       "      <td>89+3</td>\n",
       "      <td>89+3</td>\n",
       "      <td>92+0</td>\n",
       "      <td>93+0</td>\n",
       "      <td>93+0</td>\n",
       "      <td>93+0</td>\n",
       "      <td>92+0</td>\n",
       "      <td>93+0</td>\n",
       "      <td>93+0</td>\n",
       "      <td>93+0</td>\n",
       "      <td>91+2</td>\n",
       "      <td>87+3</td>\n",
       "      <td>87+3</td>\n",
       "      <td>87+3</td>\n",
       "      <td>91+2</td>\n",
       "      <td>66+3</td>\n",
       "      <td>65+3</td>\n",
       "      <td>65+3</td>\n",
       "      <td>65+3</td>\n",
       "      <td>66+3</td>\n",
       "      <td>62+3</td>\n",
       "      <td>52+3</td>\n",
       "      <td>52+3</td>\n",
       "      <td>52+3</td>\n",
       "      <td>62+3</td>\n",
       "      <td>170</td>\n",
       "      <td>72</td>\n",
       "      <td>67500000</td>\n",
       "      <td>560000</td>\n",
       "      <td>138400000.0</td>\n",
       "      <td>2004-07-01</td>\n",
       "    </tr>\n",
       "    <tr>\n",
       "      <th>1</th>\n",
       "      <td>20801</td>\n",
       "      <td>https://sofifa.com/player/20801/c-ronaldo-dos-...</td>\n",
       "      <td>Cristiano Ronaldo</td>\n",
       "      <td>Cristiano Ronaldo dos Santos Aveiro</td>\n",
       "      <td>35</td>\n",
       "      <td>1985-02-05</td>\n",
       "      <td>Portugal</td>\n",
       "      <td>Juventus</td>\n",
       "      <td>Italian Serie A</td>\n",
       "      <td>1.0</td>\n",
       "      <td>92</td>\n",
       "      <td>92</td>\n",
       "      <td>ST, LW</td>\n",
       "      <td>Right</td>\n",
       "      <td>5</td>\n",
       "      <td>4</td>\n",
       "      <td>5</td>\n",
       "      <td>High/Low</td>\n",
       "      <td>C. Ronaldo</td>\n",
       "      <td>Yes</td>\n",
       "      <td>#Aerial Threat, #Dribbler, #Distance Shooter, ...</td>\n",
       "      <td>LS</td>\n",
       "      <td>7.0</td>\n",
       "      <td>NaN</td>\n",
       "      <td>2018-07-10</td>\n",
       "      <td>2022.0</td>\n",
       "      <td>LS</td>\n",
       "      <td>7.0</td>\n",
       "      <td>89.0</td>\n",
       "      <td>93.0</td>\n",
       "      <td>81.0</td>\n",
       "      <td>89.0</td>\n",
       "      <td>35.0</td>\n",
       "      <td>77.0</td>\n",
       "      <td>0.0</td>\n",
       "      <td>0.0</td>\n",
       "      <td>0.0</td>\n",
       "      <td>0.0</td>\n",
       "      <td>0.0</td>\n",
       "      <td>0.0</td>\n",
       "      <td>Power Free-Kick, Flair, Long Shot Taker (AI), ...</td>\n",
       "      <td>84</td>\n",
       "      <td>95</td>\n",
       "      <td>90</td>\n",
       "      <td>82</td>\n",
       "      <td>86</td>\n",
       "      <td>88</td>\n",
       "      <td>81</td>\n",
       "      <td>76</td>\n",
       "      <td>77</td>\n",
       "      <td>92</td>\n",
       "      <td>87</td>\n",
       "      <td>91</td>\n",
       "      <td>87</td>\n",
       "      <td>95</td>\n",
       "      <td>71</td>\n",
       "      <td>94</td>\n",
       "      <td>95</td>\n",
       "      <td>84</td>\n",
       "      <td>78</td>\n",
       "      <td>93</td>\n",
       "      <td>63</td>\n",
       "      <td>29</td>\n",
       "      <td>95</td>\n",
       "      <td>82</td>\n",
       "      <td>84</td>\n",
       "      <td>95</td>\n",
       "      <td>0.0</td>\n",
       "      <td>32</td>\n",
       "      <td>24</td>\n",
       "      <td>7</td>\n",
       "      <td>11</td>\n",
       "      <td>15</td>\n",
       "      <td>14</td>\n",
       "      <td>11</td>\n",
       "      <td>91+1</td>\n",
       "      <td>91+1</td>\n",
       "      <td>91+1</td>\n",
       "      <td>89+0</td>\n",
       "      <td>91+0</td>\n",
       "      <td>91+0</td>\n",
       "      <td>91+0</td>\n",
       "      <td>89+0</td>\n",
       "      <td>88+3</td>\n",
       "      <td>88+3</td>\n",
       "      <td>88+3</td>\n",
       "      <td>88+3</td>\n",
       "      <td>81+3</td>\n",
       "      <td>81+3</td>\n",
       "      <td>81+3</td>\n",
       "      <td>88+3</td>\n",
       "      <td>65+3</td>\n",
       "      <td>61+3</td>\n",
       "      <td>61+3</td>\n",
       "      <td>61+3</td>\n",
       "      <td>65+3</td>\n",
       "      <td>61+3</td>\n",
       "      <td>54+3</td>\n",
       "      <td>54+3</td>\n",
       "      <td>54+3</td>\n",
       "      <td>61+3</td>\n",
       "      <td>187</td>\n",
       "      <td>83</td>\n",
       "      <td>46000000</td>\n",
       "      <td>220000</td>\n",
       "      <td>75900000.0</td>\n",
       "      <td>2018-07-10</td>\n",
       "    </tr>\n",
       "    <tr>\n",
       "      <th>2</th>\n",
       "      <td>200389</td>\n",
       "      <td>https://sofifa.com/player/200389/jan-oblak/210002</td>\n",
       "      <td>J. Oblak</td>\n",
       "      <td>Jan Oblak</td>\n",
       "      <td>27</td>\n",
       "      <td>1993-01-07</td>\n",
       "      <td>Slovenia</td>\n",
       "      <td>Atlético Madrid</td>\n",
       "      <td>Spain Primera Division</td>\n",
       "      <td>1.0</td>\n",
       "      <td>91</td>\n",
       "      <td>93</td>\n",
       "      <td>GK</td>\n",
       "      <td>Right</td>\n",
       "      <td>3</td>\n",
       "      <td>3</td>\n",
       "      <td>1</td>\n",
       "      <td>Medium/Medium</td>\n",
       "      <td>PLAYER_BODY_TYPE_259</td>\n",
       "      <td>Yes</td>\n",
       "      <td>NaN</td>\n",
       "      <td>GK</td>\n",
       "      <td>13.0</td>\n",
       "      <td>NaN</td>\n",
       "      <td>2014-07-16</td>\n",
       "      <td>2023.0</td>\n",
       "      <td>GK</td>\n",
       "      <td>1.0</td>\n",
       "      <td>0.0</td>\n",
       "      <td>0.0</td>\n",
       "      <td>0.0</td>\n",
       "      <td>0.0</td>\n",
       "      <td>0.0</td>\n",
       "      <td>0.0</td>\n",
       "      <td>87.0</td>\n",
       "      <td>92.0</td>\n",
       "      <td>78.0</td>\n",
       "      <td>90.0</td>\n",
       "      <td>52.0</td>\n",
       "      <td>90.0</td>\n",
       "      <td>GK Long Throw, Comes For Crosses</td>\n",
       "      <td>13</td>\n",
       "      <td>11</td>\n",
       "      <td>15</td>\n",
       "      <td>43</td>\n",
       "      <td>13</td>\n",
       "      <td>12</td>\n",
       "      <td>13</td>\n",
       "      <td>14</td>\n",
       "      <td>40</td>\n",
       "      <td>30</td>\n",
       "      <td>43</td>\n",
       "      <td>60</td>\n",
       "      <td>67</td>\n",
       "      <td>88</td>\n",
       "      <td>49</td>\n",
       "      <td>59</td>\n",
       "      <td>78</td>\n",
       "      <td>41</td>\n",
       "      <td>78</td>\n",
       "      <td>12</td>\n",
       "      <td>34</td>\n",
       "      <td>19</td>\n",
       "      <td>11</td>\n",
       "      <td>65</td>\n",
       "      <td>11</td>\n",
       "      <td>68</td>\n",
       "      <td>0.0</td>\n",
       "      <td>12</td>\n",
       "      <td>18</td>\n",
       "      <td>87</td>\n",
       "      <td>92</td>\n",
       "      <td>78</td>\n",
       "      <td>90</td>\n",
       "      <td>90</td>\n",
       "      <td>33+3</td>\n",
       "      <td>33+3</td>\n",
       "      <td>33+3</td>\n",
       "      <td>32+0</td>\n",
       "      <td>35+0</td>\n",
       "      <td>35+0</td>\n",
       "      <td>35+0</td>\n",
       "      <td>32+0</td>\n",
       "      <td>38+3</td>\n",
       "      <td>38+3</td>\n",
       "      <td>38+3</td>\n",
       "      <td>35+3</td>\n",
       "      <td>38+3</td>\n",
       "      <td>38+3</td>\n",
       "      <td>38+3</td>\n",
       "      <td>35+3</td>\n",
       "      <td>32+3</td>\n",
       "      <td>36+3</td>\n",
       "      <td>36+3</td>\n",
       "      <td>36+3</td>\n",
       "      <td>32+3</td>\n",
       "      <td>32+3</td>\n",
       "      <td>33+3</td>\n",
       "      <td>33+3</td>\n",
       "      <td>33+3</td>\n",
       "      <td>32+3</td>\n",
       "      <td>188</td>\n",
       "      <td>87</td>\n",
       "      <td>75000000</td>\n",
       "      <td>125000</td>\n",
       "      <td>159400000.0</td>\n",
       "      <td>2014-07-16</td>\n",
       "    </tr>\n",
       "    <tr>\n",
       "      <th>3</th>\n",
       "      <td>188545</td>\n",
       "      <td>https://sofifa.com/player/188545/robert-lewand...</td>\n",
       "      <td>R. Lewandowski</td>\n",
       "      <td>Robert Lewandowski</td>\n",
       "      <td>31</td>\n",
       "      <td>1988-08-21</td>\n",
       "      <td>Poland</td>\n",
       "      <td>FC Bayern München</td>\n",
       "      <td>German 1. Bundesliga</td>\n",
       "      <td>1.0</td>\n",
       "      <td>91</td>\n",
       "      <td>91</td>\n",
       "      <td>ST</td>\n",
       "      <td>Right</td>\n",
       "      <td>4</td>\n",
       "      <td>4</td>\n",
       "      <td>4</td>\n",
       "      <td>High/Medium</td>\n",
       "      <td>PLAYER_BODY_TYPE_276</td>\n",
       "      <td>Yes</td>\n",
       "      <td>#Distance Shooter, #Clinical Finisher</td>\n",
       "      <td>ST</td>\n",
       "      <td>9.0</td>\n",
       "      <td>NaN</td>\n",
       "      <td>2014-07-01</td>\n",
       "      <td>2023.0</td>\n",
       "      <td>NaN</td>\n",
       "      <td>0.0</td>\n",
       "      <td>78.0</td>\n",
       "      <td>91.0</td>\n",
       "      <td>78.0</td>\n",
       "      <td>85.0</td>\n",
       "      <td>43.0</td>\n",
       "      <td>82.0</td>\n",
       "      <td>0.0</td>\n",
       "      <td>0.0</td>\n",
       "      <td>0.0</td>\n",
       "      <td>0.0</td>\n",
       "      <td>0.0</td>\n",
       "      <td>0.0</td>\n",
       "      <td>Solid Player, Finesse Shot, Outside Foot Shot,...</td>\n",
       "      <td>71</td>\n",
       "      <td>94</td>\n",
       "      <td>85</td>\n",
       "      <td>84</td>\n",
       "      <td>89</td>\n",
       "      <td>85</td>\n",
       "      <td>79</td>\n",
       "      <td>85</td>\n",
       "      <td>70</td>\n",
       "      <td>88</td>\n",
       "      <td>77</td>\n",
       "      <td>78</td>\n",
       "      <td>77</td>\n",
       "      <td>93</td>\n",
       "      <td>82</td>\n",
       "      <td>89</td>\n",
       "      <td>84</td>\n",
       "      <td>76</td>\n",
       "      <td>86</td>\n",
       "      <td>85</td>\n",
       "      <td>81</td>\n",
       "      <td>49</td>\n",
       "      <td>94</td>\n",
       "      <td>79</td>\n",
       "      <td>88</td>\n",
       "      <td>88</td>\n",
       "      <td>0.0</td>\n",
       "      <td>42</td>\n",
       "      <td>19</td>\n",
       "      <td>15</td>\n",
       "      <td>6</td>\n",
       "      <td>12</td>\n",
       "      <td>8</td>\n",
       "      <td>10</td>\n",
       "      <td>89+2</td>\n",
       "      <td>89+2</td>\n",
       "      <td>89+2</td>\n",
       "      <td>85+0</td>\n",
       "      <td>87+0</td>\n",
       "      <td>87+0</td>\n",
       "      <td>87+0</td>\n",
       "      <td>85+0</td>\n",
       "      <td>85+3</td>\n",
       "      <td>85+3</td>\n",
       "      <td>85+3</td>\n",
       "      <td>83+3</td>\n",
       "      <td>79+3</td>\n",
       "      <td>79+3</td>\n",
       "      <td>79+3</td>\n",
       "      <td>83+3</td>\n",
       "      <td>64+3</td>\n",
       "      <td>65+3</td>\n",
       "      <td>65+3</td>\n",
       "      <td>65+3</td>\n",
       "      <td>64+3</td>\n",
       "      <td>61+3</td>\n",
       "      <td>60+3</td>\n",
       "      <td>60+3</td>\n",
       "      <td>60+3</td>\n",
       "      <td>61+3</td>\n",
       "      <td>184</td>\n",
       "      <td>80</td>\n",
       "      <td>80000000</td>\n",
       "      <td>240000</td>\n",
       "      <td>132000000.0</td>\n",
       "      <td>2014-07-01</td>\n",
       "    </tr>\n",
       "    <tr>\n",
       "      <th>4</th>\n",
       "      <td>190871</td>\n",
       "      <td>https://sofifa.com/player/190871/neymar-da-sil...</td>\n",
       "      <td>Neymar Jr</td>\n",
       "      <td>Neymar da Silva Santos Júnior</td>\n",
       "      <td>28</td>\n",
       "      <td>1992-02-05</td>\n",
       "      <td>Brazil</td>\n",
       "      <td>Paris Saint-Germain</td>\n",
       "      <td>French Ligue 1</td>\n",
       "      <td>1.0</td>\n",
       "      <td>91</td>\n",
       "      <td>91</td>\n",
       "      <td>LW, CAM</td>\n",
       "      <td>Right</td>\n",
       "      <td>5</td>\n",
       "      <td>5</td>\n",
       "      <td>5</td>\n",
       "      <td>High/Medium</td>\n",
       "      <td>Neymar</td>\n",
       "      <td>Yes</td>\n",
       "      <td>#Speedster, #Dribbler, #Playmaker, #FK Special...</td>\n",
       "      <td>LW</td>\n",
       "      <td>10.0</td>\n",
       "      <td>NaN</td>\n",
       "      <td>2017-08-03</td>\n",
       "      <td>2022.0</td>\n",
       "      <td>NaN</td>\n",
       "      <td>0.0</td>\n",
       "      <td>91.0</td>\n",
       "      <td>85.0</td>\n",
       "      <td>86.0</td>\n",
       "      <td>94.0</td>\n",
       "      <td>36.0</td>\n",
       "      <td>59.0</td>\n",
       "      <td>0.0</td>\n",
       "      <td>0.0</td>\n",
       "      <td>0.0</td>\n",
       "      <td>0.0</td>\n",
       "      <td>0.0</td>\n",
       "      <td>0.0</td>\n",
       "      <td>Injury Prone, Flair, Speed Dribbler (AI), Outs...</td>\n",
       "      <td>85</td>\n",
       "      <td>87</td>\n",
       "      <td>62</td>\n",
       "      <td>87</td>\n",
       "      <td>87</td>\n",
       "      <td>95</td>\n",
       "      <td>88</td>\n",
       "      <td>89</td>\n",
       "      <td>81</td>\n",
       "      <td>95</td>\n",
       "      <td>94</td>\n",
       "      <td>89</td>\n",
       "      <td>96</td>\n",
       "      <td>91</td>\n",
       "      <td>83</td>\n",
       "      <td>80</td>\n",
       "      <td>62</td>\n",
       "      <td>81</td>\n",
       "      <td>50</td>\n",
       "      <td>84</td>\n",
       "      <td>51</td>\n",
       "      <td>36</td>\n",
       "      <td>87</td>\n",
       "      <td>90</td>\n",
       "      <td>92</td>\n",
       "      <td>93</td>\n",
       "      <td>0.0</td>\n",
       "      <td>30</td>\n",
       "      <td>29</td>\n",
       "      <td>9</td>\n",
       "      <td>9</td>\n",
       "      <td>15</td>\n",
       "      <td>15</td>\n",
       "      <td>11</td>\n",
       "      <td>84+3</td>\n",
       "      <td>84+3</td>\n",
       "      <td>84+3</td>\n",
       "      <td>90+0</td>\n",
       "      <td>89+0</td>\n",
       "      <td>89+0</td>\n",
       "      <td>89+0</td>\n",
       "      <td>90+0</td>\n",
       "      <td>90+1</td>\n",
       "      <td>90+1</td>\n",
       "      <td>90+1</td>\n",
       "      <td>90+1</td>\n",
       "      <td>83+3</td>\n",
       "      <td>83+3</td>\n",
       "      <td>83+3</td>\n",
       "      <td>90+1</td>\n",
       "      <td>67+3</td>\n",
       "      <td>62+3</td>\n",
       "      <td>62+3</td>\n",
       "      <td>62+3</td>\n",
       "      <td>67+3</td>\n",
       "      <td>62+3</td>\n",
       "      <td>49+3</td>\n",
       "      <td>49+3</td>\n",
       "      <td>49+3</td>\n",
       "      <td>62+3</td>\n",
       "      <td>175</td>\n",
       "      <td>68</td>\n",
       "      <td>90000000</td>\n",
       "      <td>270000</td>\n",
       "      <td>166500000.0</td>\n",
       "      <td>2017-08-03</td>\n",
       "    </tr>\n",
       "  </tbody>\n",
       "</table>\n",
       "</div>"
      ],
      "text/plain": [
       "   sofifa_id                                         player_url  \\\n",
       "0     158023  https://sofifa.com/player/158023/lionel-messi/...   \n",
       "1      20801  https://sofifa.com/player/20801/c-ronaldo-dos-...   \n",
       "2     200389  https://sofifa.com/player/200389/jan-oblak/210002   \n",
       "3     188545  https://sofifa.com/player/188545/robert-lewand...   \n",
       "4     190871  https://sofifa.com/player/190871/neymar-da-sil...   \n",
       "\n",
       "          short_name                            long_name  age         dob  \\\n",
       "0           L. Messi       Lionel Andrés Messi Cuccittini   33  1987-06-24   \n",
       "1  Cristiano Ronaldo  Cristiano Ronaldo dos Santos Aveiro   35  1985-02-05   \n",
       "2           J. Oblak                            Jan Oblak   27  1993-01-07   \n",
       "3     R. Lewandowski                   Robert Lewandowski   31  1988-08-21   \n",
       "4          Neymar Jr        Neymar da Silva Santos Júnior   28  1992-02-05   \n",
       "\n",
       "  nationality            club_name             league_name  league_rank  \\\n",
       "0   Argentina         FC Barcelona  Spain Primera Division          1.0   \n",
       "1    Portugal             Juventus         Italian Serie A          1.0   \n",
       "2    Slovenia      Atlético Madrid  Spain Primera Division          1.0   \n",
       "3      Poland    FC Bayern München    German 1. Bundesliga          1.0   \n",
       "4      Brazil  Paris Saint-Germain          French Ligue 1          1.0   \n",
       "\n",
       "   overall  potential player_positions preferred_foot  \\\n",
       "0       93         93       RW, ST, CF           Left   \n",
       "1       92         92           ST, LW          Right   \n",
       "2       91         93               GK          Right   \n",
       "3       91         91               ST          Right   \n",
       "4       91         91          LW, CAM          Right   \n",
       "\n",
       "   international_reputation  weak_foot  skill_moves      work_rate  \\\n",
       "0                         5          4            4     Medium/Low   \n",
       "1                         5          4            5       High/Low   \n",
       "2                         3          3            1  Medium/Medium   \n",
       "3                         4          4            4    High/Medium   \n",
       "4                         5          5            5    High/Medium   \n",
       "\n",
       "              body_type real_face  \\\n",
       "0                 Messi       Yes   \n",
       "1            C. Ronaldo       Yes   \n",
       "2  PLAYER_BODY_TYPE_259       Yes   \n",
       "3  PLAYER_BODY_TYPE_276       Yes   \n",
       "4                Neymar       Yes   \n",
       "\n",
       "                                         player_tags team_position  \\\n",
       "0  #Dribbler, #Distance Shooter, #FK Specialist, ...           CAM   \n",
       "1  #Aerial Threat, #Dribbler, #Distance Shooter, ...            LS   \n",
       "2                                                NaN            GK   \n",
       "3              #Distance Shooter, #Clinical Finisher            ST   \n",
       "4  #Speedster, #Dribbler, #Playmaker, #FK Special...            LW   \n",
       "\n",
       "   team_jersey_number loaned_from      joined  contract_valid_until  \\\n",
       "0                10.0         NaN  2004-07-01                2021.0   \n",
       "1                 7.0         NaN  2018-07-10                2022.0   \n",
       "2                13.0         NaN  2014-07-16                2023.0   \n",
       "3                 9.0         NaN  2014-07-01                2023.0   \n",
       "4                10.0         NaN  2017-08-03                2022.0   \n",
       "\n",
       "  nation_position  nation_jersey_number  pace  shooting  passing  dribbling  \\\n",
       "0              RW                  10.0  85.0      92.0     91.0       95.0   \n",
       "1              LS                   7.0  89.0      93.0     81.0       89.0   \n",
       "2              GK                   1.0   0.0       0.0      0.0        0.0   \n",
       "3             NaN                   0.0  78.0      91.0     78.0       85.0   \n",
       "4             NaN                   0.0  91.0      85.0     86.0       94.0   \n",
       "\n",
       "   defending  physic  gk_diving  gk_handling  gk_kicking  gk_reflexes  \\\n",
       "0       38.0    65.0        0.0          0.0         0.0          0.0   \n",
       "1       35.0    77.0        0.0          0.0         0.0          0.0   \n",
       "2        0.0     0.0       87.0         92.0        78.0         90.0   \n",
       "3       43.0    82.0        0.0          0.0         0.0          0.0   \n",
       "4       36.0    59.0        0.0          0.0         0.0          0.0   \n",
       "\n",
       "   gk_speed  gk_positioning  \\\n",
       "0       0.0             0.0   \n",
       "1       0.0             0.0   \n",
       "2      52.0            90.0   \n",
       "3       0.0             0.0   \n",
       "4       0.0             0.0   \n",
       "\n",
       "                                       player_traits  attacking_crossing  \\\n",
       "0  Finesse Shot, Long Shot Taker (AI), Speed Drib...                  85   \n",
       "1  Power Free-Kick, Flair, Long Shot Taker (AI), ...                  84   \n",
       "2                   GK Long Throw, Comes For Crosses                  13   \n",
       "3  Solid Player, Finesse Shot, Outside Foot Shot,...                  71   \n",
       "4  Injury Prone, Flair, Speed Dribbler (AI), Outs...                  85   \n",
       "\n",
       "   attacking_finishing  attacking_heading_accuracy  attacking_short_passing  \\\n",
       "0                   95                          70                       91   \n",
       "1                   95                          90                       82   \n",
       "2                   11                          15                       43   \n",
       "3                   94                          85                       84   \n",
       "4                   87                          62                       87   \n",
       "\n",
       "   attacking_volleys  skill_dribbling  skill_curve  skill_fk_accuracy  \\\n",
       "0                 88               96           93                 94   \n",
       "1                 86               88           81                 76   \n",
       "2                 13               12           13                 14   \n",
       "3                 89               85           79                 85   \n",
       "4                 87               95           88                 89   \n",
       "\n",
       "   skill_long_passing  skill_ball_control  movement_acceleration  \\\n",
       "0                  91                  96                     91   \n",
       "1                  77                  92                     87   \n",
       "2                  40                  30                     43   \n",
       "3                  70                  88                     77   \n",
       "4                  81                  95                     94   \n",
       "\n",
       "   movement_sprint_speed  movement_agility  movement_reactions  \\\n",
       "0                     80                91                  94   \n",
       "1                     91                87                  95   \n",
       "2                     60                67                  88   \n",
       "3                     78                77                  93   \n",
       "4                     89                96                  91   \n",
       "\n",
       "   movement_balance  power_shot_power  power_jumping  power_stamina  \\\n",
       "0                95                86             68             72   \n",
       "1                71                94             95             84   \n",
       "2                49                59             78             41   \n",
       "3                82                89             84             76   \n",
       "4                83                80             62             81   \n",
       "\n",
       "   power_strength  power_long_shots  mentality_aggression  \\\n",
       "0              69                94                    44   \n",
       "1              78                93                    63   \n",
       "2              78                12                    34   \n",
       "3              86                85                    81   \n",
       "4              50                84                    51   \n",
       "\n",
       "   mentality_interceptions  mentality_positioning  mentality_vision  \\\n",
       "0                       40                     93                95   \n",
       "1                       29                     95                82   \n",
       "2                       19                     11                65   \n",
       "3                       49                     94                79   \n",
       "4                       36                     87                90   \n",
       "\n",
       "   mentality_penalties  mentality_composure  defending_marking  \\\n",
       "0                   75                   96                0.0   \n",
       "1                   84                   95                0.0   \n",
       "2                   11                   68                0.0   \n",
       "3                   88                   88                0.0   \n",
       "4                   92                   93                0.0   \n",
       "\n",
       "   defending_standing_tackle  defending_sliding_tackle  goalkeeping_diving  \\\n",
       "0                         35                        24                   6   \n",
       "1                         32                        24                   7   \n",
       "2                         12                        18                  87   \n",
       "3                         42                        19                  15   \n",
       "4                         30                        29                   9   \n",
       "\n",
       "   goalkeeping_handling  goalkeeping_kicking  goalkeeping_positioning  \\\n",
       "0                    11                   15                       14   \n",
       "1                    11                   15                       14   \n",
       "2                    92                   78                       90   \n",
       "3                     6                   12                        8   \n",
       "4                     9                   15                       15   \n",
       "\n",
       "   goalkeeping_reflexes    ls    st    rs    lw    lf    cf    rf    rw   lam  \\\n",
       "0                     8  89+3  89+3  89+3  92+0  93+0  93+0  93+0  92+0  93+0   \n",
       "1                    11  91+1  91+1  91+1  89+0  91+0  91+0  91+0  89+0  88+3   \n",
       "2                    90  33+3  33+3  33+3  32+0  35+0  35+0  35+0  32+0  38+3   \n",
       "3                    10  89+2  89+2  89+2  85+0  87+0  87+0  87+0  85+0  85+3   \n",
       "4                    11  84+3  84+3  84+3  90+0  89+0  89+0  89+0  90+0  90+1   \n",
       "\n",
       "    cam   ram    lm   lcm    cm   rcm    rm   lwb   ldm   cdm   rdm   rwb  \\\n",
       "0  93+0  93+0  91+2  87+3  87+3  87+3  91+2  66+3  65+3  65+3  65+3  66+3   \n",
       "1  88+3  88+3  88+3  81+3  81+3  81+3  88+3  65+3  61+3  61+3  61+3  65+3   \n",
       "2  38+3  38+3  35+3  38+3  38+3  38+3  35+3  32+3  36+3  36+3  36+3  32+3   \n",
       "3  85+3  85+3  83+3  79+3  79+3  79+3  83+3  64+3  65+3  65+3  65+3  64+3   \n",
       "4  90+1  90+1  90+1  83+3  83+3  83+3  90+1  67+3  62+3  62+3  62+3  67+3   \n",
       "\n",
       "     lb   lcb    cb   rcb    rb  Groesse_cm  Gewicht_kg  Marktwert_EUR  \\\n",
       "0  62+3  52+3  52+3  52+3  62+3         170          72       67500000   \n",
       "1  61+3  54+3  54+3  54+3  61+3         187          83       46000000   \n",
       "2  32+3  33+3  33+3  33+3  32+3         188          87       75000000   \n",
       "3  61+3  60+3  60+3  60+3  61+3         184          80       80000000   \n",
       "4  62+3  49+3  49+3  49+3  62+3         175          68       90000000   \n",
       "\n",
       "   Gehalt_EUR  Ausstiegsklausel_EUR Beitrittsdatum  \n",
       "0      560000           138400000.0     2004-07-01  \n",
       "1      220000            75900000.0     2018-07-10  \n",
       "2      125000           159400000.0     2014-07-16  \n",
       "3      240000           132000000.0     2014-07-01  \n",
       "4      270000           166500000.0     2017-08-03  "
      ]
     },
     "metadata": {},
     "output_type": "display_data"
    }
   ],
   "source": [
    "display(df.head())"
   ]
  },
  {
   "cell_type": "markdown",
   "metadata": {},
   "source": [
    "## 1. Analyse der Spieler-Marktwerte"
   ]
  },
  {
   "cell_type": "code",
   "execution_count": 101,
   "metadata": {},
   "outputs": [
    {
     "name": "stdout",
     "output_type": "stream",
     "text": [
      "\n",
      "=== Analyse der Spieler-Marktwerte ===\n"
     ]
    }
   ],
   "source": [
    "print(\"\\n=== Analyse der Spieler-Marktwerte ===\")"
   ]
  },
  {
   "cell_type": "code",
   "execution_count": 102,
   "metadata": {},
   "outputs": [
    {
     "data": {
      "image/png": "[encoded data removed]",
      "text/plain": [
       "<Figure size 1200x600 with 1 Axes>"
      ]
     },
     "metadata": {},
     "output_type": "display_data"
    }
   ],
   "source": [
    "plt.figure(figsize=(12, 6))\n",
    "# Ich nehme die obersten 1% raus, damit man die Verteilung besser sieht\n",
    "sns.histplot(data=df[df['Marktwert_EUR'] < df['Marktwert_EUR'].quantile(0.99)], \n",
    "             x='Marktwert_EUR', bins=50)\n",
    "plt.title('Verteilung der Spieler-Marktwerte (ohne oberstes 1%)')\n",
    "plt.xlabel('Marktwert in EUR')\n",
    "plt.ylabel('Anzahl')\n",
    "plt.show()\n"
   ]
  },
  {
   "cell_type": "markdown",
   "metadata": {},
   "source": [
    "### Top 10 wertvollste Spieler"
   ]
  },
  {
   "cell_type": "code",
   "execution_count": 103,
   "metadata": {},
   "outputs": [
    {
     "name": "stdout",
     "output_type": "stream",
     "text": [
      "\n",
      "Die 10 wertvollsten Spieler:\n"
     ]
    },
    {
     "ename": "KeyError",
     "evalue": "\"['Name', 'Age', 'Team', 'Overall'] not in index\"",
     "output_type": "error",
     "traceback": [
      "\u001b[0;31m---------------------------------------------------------------------------\u001b[0m",
      "\u001b[0;31mKeyError\u001b[0m                                  Traceback (most recent call last)",
      "Cell \u001b[0;32mIn[103], line 3\u001b[0m\n\u001b[1;32m      1\u001b[0m \u001b[38;5;28mprint\u001b[39m(\u001b[38;5;124m\"\u001b[39m\u001b[38;5;130;01m\\n\u001b[39;00m\u001b[38;5;124mDie 10 wertvollsten Spieler:\u001b[39m\u001b[38;5;124m\"\u001b[39m)\n\u001b[1;32m      2\u001b[0m wert_spalten \u001b[38;5;241m=\u001b[39m [\u001b[38;5;124m'\u001b[39m\u001b[38;5;124mName\u001b[39m\u001b[38;5;124m'\u001b[39m, \u001b[38;5;124m'\u001b[39m\u001b[38;5;124mAge\u001b[39m\u001b[38;5;124m'\u001b[39m, \u001b[38;5;124m'\u001b[39m\u001b[38;5;124mTeam\u001b[39m\u001b[38;5;124m'\u001b[39m, \u001b[38;5;124m'\u001b[39m\u001b[38;5;124mMarktwert_EUR\u001b[39m\u001b[38;5;124m'\u001b[39m, \u001b[38;5;124m'\u001b[39m\u001b[38;5;124mOverall\u001b[39m\u001b[38;5;124m'\u001b[39m]\n\u001b[0;32m----> 3\u001b[0m display(df\u001b[38;5;241m.\u001b[39mnlargest(\u001b[38;5;241m10\u001b[39m, \u001b[38;5;124m'\u001b[39m\u001b[38;5;124mMarktwert_EUR\u001b[39m\u001b[38;5;124m'\u001b[39m)[wert_spalten])\n",
      "File \u001b[0;32m/opt/anaconda3/envs/EnvScience/lib/python3.12/site-packages/pandas/core/frame.py:4108\u001b[0m, in \u001b[0;36mDataFrame.__getitem__\u001b[0;34m(self, key)\u001b[0m\n\u001b[1;32m   4106\u001b[0m     \u001b[38;5;28;01mif\u001b[39;00m is_iterator(key):\n\u001b[1;32m   4107\u001b[0m         key \u001b[38;5;241m=\u001b[39m \u001b[38;5;28mlist\u001b[39m(key)\n\u001b[0;32m-> 4108\u001b[0m     indexer \u001b[38;5;241m=\u001b[39m \u001b[38;5;28mself\u001b[39m\u001b[38;5;241m.\u001b[39mcolumns\u001b[38;5;241m.\u001b[39m_get_indexer_strict(key, \u001b[38;5;124m\"\u001b[39m\u001b[38;5;124mcolumns\u001b[39m\u001b[38;5;124m\"\u001b[39m)[\u001b[38;5;241m1\u001b[39m]\n\u001b[1;32m   4110\u001b[0m \u001b[38;5;66;03m# take() does not accept boolean indexers\u001b[39;00m\n\u001b[1;32m   4111\u001b[0m \u001b[38;5;28;01mif\u001b[39;00m \u001b[38;5;28mgetattr\u001b[39m(indexer, \u001b[38;5;124m\"\u001b[39m\u001b[38;5;124mdtype\u001b[39m\u001b[38;5;124m\"\u001b[39m, \u001b[38;5;28;01mNone\u001b[39;00m) \u001b[38;5;241m==\u001b[39m \u001b[38;5;28mbool\u001b[39m:\n",
      "File \u001b[0;32m/opt/anaconda3/envs/EnvScience/lib/python3.12/site-packages/pandas/core/indexes/base.py:6200\u001b[0m, in \u001b[0;36mIndex._get_indexer_strict\u001b[0;34m(self, key, axis_name)\u001b[0m\n\u001b[1;32m   6197\u001b[0m \u001b[38;5;28;01melse\u001b[39;00m:\n\u001b[1;32m   6198\u001b[0m     keyarr, indexer, new_indexer \u001b[38;5;241m=\u001b[39m \u001b[38;5;28mself\u001b[39m\u001b[38;5;241m.\u001b[39m_reindex_non_unique(keyarr)\n\u001b[0;32m-> 6200\u001b[0m \u001b[38;5;28mself\u001b[39m\u001b[38;5;241m.\u001b[39m_raise_if_missing(keyarr, indexer, axis_name)\n\u001b[1;32m   6202\u001b[0m keyarr \u001b[38;5;241m=\u001b[39m \u001b[38;5;28mself\u001b[39m\u001b[38;5;241m.\u001b[39mtake(indexer)\n\u001b[1;32m   6203\u001b[0m \u001b[38;5;28;01mif\u001b[39;00m \u001b[38;5;28misinstance\u001b[39m(key, Index):\n\u001b[1;32m   6204\u001b[0m     \u001b[38;5;66;03m# GH 42790 - Preserve name from an Index\u001b[39;00m\n",
      "File \u001b[0;32m/opt/anaconda3/envs/EnvScience/lib/python3.12/site-packages/pandas/core/indexes/base.py:6252\u001b[0m, in \u001b[0;36mIndex._raise_if_missing\u001b[0;34m(self, key, indexer, axis_name)\u001b[0m\n\u001b[1;32m   6249\u001b[0m     \u001b[38;5;28;01mraise\u001b[39;00m \u001b[38;5;167;01mKeyError\u001b[39;00m(\u001b[38;5;124mf\u001b[39m\u001b[38;5;124m\"\u001b[39m\u001b[38;5;124mNone of [\u001b[39m\u001b[38;5;132;01m{\u001b[39;00mkey\u001b[38;5;132;01m}\u001b[39;00m\u001b[38;5;124m] are in the [\u001b[39m\u001b[38;5;132;01m{\u001b[39;00maxis_name\u001b[38;5;132;01m}\u001b[39;00m\u001b[38;5;124m]\u001b[39m\u001b[38;5;124m\"\u001b[39m)\n\u001b[1;32m   6251\u001b[0m not_found \u001b[38;5;241m=\u001b[39m \u001b[38;5;28mlist\u001b[39m(ensure_index(key)[missing_mask\u001b[38;5;241m.\u001b[39mnonzero()[\u001b[38;5;241m0\u001b[39m]]\u001b[38;5;241m.\u001b[39munique())\n\u001b[0;32m-> 6252\u001b[0m \u001b[38;5;28;01mraise\u001b[39;00m \u001b[38;5;167;01mKeyError\u001b[39;00m(\u001b[38;5;124mf\u001b[39m\u001b[38;5;124m\"\u001b[39m\u001b[38;5;132;01m{\u001b[39;00mnot_found\u001b[38;5;132;01m}\u001b[39;00m\u001b[38;5;124m not in index\u001b[39m\u001b[38;5;124m\"\u001b[39m)\n",
      "\u001b[0;31mKeyError\u001b[0m: \"['Name', 'Age', 'Team', 'Overall'] not in index\""
     ]
    }
   ],
   "source": [
    "print(\"\\nDie 10 wertvollsten Spieler:\")\n",
    "wert_spalten = ['Name', 'Age', 'Team', 'Marktwert_EUR', 'Overall']\n",
    "display(df.nlargest(10, 'Marktwert_EUR')[wert_spalten])"
   ]
  },
  {
   "cell_type": "markdown",
   "metadata": {},
   "source": [
    "## 2. Altersanalyse"
   ]
  },
  {
   "cell_type": "code",
   "execution_count": null,
   "metadata": {},
   "outputs": [
    {
     "name": "stdout",
     "output_type": "stream",
     "text": [
      "\n",
      "=== Altersanalyse ===\n"
     ]
    },
    {
     "data": {
      "text/plain": [
       "<Figure size 1200x600 with 0 Axes>"
      ]
     },
     "metadata": {},
     "output_type": "display_data"
    },
    {
     "data": {
      "text/plain": [
       "<Figure size 1200x600 with 0 Axes>"
      ]
     },
     "metadata": {},
     "output_type": "display_data"
    },
    {
     "data": {
      "image/png": "[encoded data removed]",
      "text/plain": [
       "<Figure size 1200x600 with 1 Axes>"
      ]
     },
     "metadata": {},
     "output_type": "display_data"
    }
   ],
   "source": [
    "print(\"\\n=== Altersanalyse ===\")\n",
    "\n",
    "plt.figure(figsize=(12, 6))\n",
    "sns.boxplot(data=df, x='age', y='overall')\n",
    "plt.title('Gesamtbewertung nach Alter')\n",
    "plt.xlabel('Alter')\n",
    "plt.ylabel('Gesamtbewertung')\n",
    "plt.show()"
   ]
  },
  {
   "cell_type": "markdown",
   "metadata": {},
   "source": [
    "## Durchschnittswerte nach Altersgruppen"
   ]
  },
  {
   "cell_type": "code",
   "execution_count": null,
   "metadata": {},
   "outputs": [
    {
     "name": "stderr",
     "output_type": "stream",
     "text": [
      "/var/folders/v8/sjdmnzl54fn3997hxg94053r0000gn/T/ipykernel_8511/3507867379.py:5: FutureWarning: The default of observed=False is deprecated and will be changed to True in a future version of pandas. Pass observed=False to retain current behavior or observed=True to adopt the future default and silence this warning.\n",
      "  alters_statistik = df.groupby('Altersgruppe').agg({\n"
     ]
    }
   ],
   "source": [
    "df['Altersgruppe'] = pd.cut(df['age'], \n",
    "                           bins=[0, 20, 25, 30, 35, 100], \n",
    "                           labels=['Unter 20', '20-25', '26-30', '31-35', 'Über 35'])\n",
    "\n",
    "alters_statistik = df.groupby('Altersgruppe').agg({\n",
    "    'overall': 'mean',\n",
    "    'Marktwert_EUR': 'mean',\n",
    "    'Gehalt_EUR': 'mean'\n",
    "}).round(2)"
   ]
  },
  {
   "cell_type": "code",
   "execution_count": null,
   "metadata": {},
   "outputs": [
    {
     "name": "stdout",
     "output_type": "stream",
     "text": [
      "\n",
      "Durchschnittswerte nach Altersgruppen:\n"
     ]
    },
    {
     "data": {
      "text/html": [
       "<div>\n",
       "<style scoped>\n",
       "    .dataframe tbody tr th:only-of-type {\n",
       "        vertical-align: middle;\n",
       "    }\n",
       "\n",
       "    .dataframe tbody tr th {\n",
       "        vertical-align: top;\n",
       "    }\n",
       "\n",
       "    .dataframe thead th {\n",
       "        text-align: right;\n",
       "    }\n",
       "</style>\n",
       "<table border=\"1\" class=\"dataframe\">\n",
       "  <thead>\n",
       "    <tr style=\"text-align: right;\">\n",
       "      <th></th>\n",
       "      <th>overall</th>\n",
       "      <th>Marktwert_EUR</th>\n",
       "      <th>Gehalt_EUR</th>\n",
       "    </tr>\n",
       "    <tr>\n",
       "      <th>Altersgruppe</th>\n",
       "      <th></th>\n",
       "      <th></th>\n",
       "      <th></th>\n",
       "    </tr>\n",
       "  </thead>\n",
       "  <tbody>\n",
       "    <tr>\n",
       "      <th>Unter 20</th>\n",
       "      <td>59.07</td>\n",
       "      <td>860888.01</td>\n",
       "      <td>2676.57</td>\n",
       "    </tr>\n",
       "    <tr>\n",
       "      <th>20-25</th>\n",
       "      <td>65.19</td>\n",
       "      <td>2276495.55</td>\n",
       "      <td>7511.37</td>\n",
       "    </tr>\n",
       "    <tr>\n",
       "      <th>26-30</th>\n",
       "      <td>68.48</td>\n",
       "      <td>3052087.68</td>\n",
       "      <td>12322.37</td>\n",
       "    </tr>\n",
       "    <tr>\n",
       "      <th>31-35</th>\n",
       "      <td>69.35</td>\n",
       "      <td>2285212.33</td>\n",
       "      <td>12299.37</td>\n",
       "    </tr>\n",
       "    <tr>\n",
       "      <th>Über 35</th>\n",
       "      <td>68.30</td>\n",
       "      <td>569146.89</td>\n",
       "      <td>5418.36</td>\n",
       "    </tr>\n",
       "  </tbody>\n",
       "</table>\n",
       "</div>"
      ],
      "text/plain": [
       "              overall  Marktwert_EUR  Gehalt_EUR\n",
       "Altersgruppe                                    \n",
       "Unter 20        59.07      860888.01     2676.57\n",
       "20-25           65.19     2276495.55     7511.37\n",
       "26-30           68.48     3052087.68    12322.37\n",
       "31-35           69.35     2285212.33    12299.37\n",
       "Über 35         68.30      569146.89     5418.36"
      ]
     },
     "metadata": {},
     "output_type": "display_data"
    }
   ],
   "source": [
    "print(\"\\nDurchschnittswerte nach Altersgruppen:\")\n",
    "display(alters_statistik)"
   ]
  },
  {
   "cell_type": "markdown",
   "metadata": {},
   "source": [
    "## 3. Team-Analyse"
   ]
  },
  {
   "cell_type": "code",
   "execution_count": null,
   "metadata": {},
   "outputs": [
    {
     "name": "stdout",
     "output_type": "stream",
     "text": [
      "\n",
      "=== Team-Analyse ===\n"
     ]
    }
   ],
   "source": [
    "print(\"\\n=== Team-Analyse ===\")"
   ]
  },
  {
   "cell_type": "code",
   "execution_count": null,
   "metadata": {},
   "outputs": [],
   "source": [
    "# Top 10 Teams nach durchschnittlichem Spielerwert\n",
    "team_statistik = df.groupby('club_name').agg({\n",
    "    'Marktwert_EUR': 'mean',\n",
    "    'overall': 'mean',\n",
    "    'age': 'mean'\n",
    "}).round(2)\n"
   ]
  },
  {
   "cell_type": "code",
   "execution_count": null,
   "metadata": {},
   "outputs": [
    {
     "name": "stdout",
     "output_type": "stream",
     "text": [
      "\n",
      "Top 10 Teams nach durchschnittlichem Spielerwert:\n"
     ]
    },
    {
     "data": {
      "text/html": [
       "<div>\n",
       "<style scoped>\n",
       "    .dataframe tbody tr th:only-of-type {\n",
       "        vertical-align: middle;\n",
       "    }\n",
       "\n",
       "    .dataframe tbody tr th {\n",
       "        vertical-align: top;\n",
       "    }\n",
       "\n",
       "    .dataframe thead th {\n",
       "        text-align: right;\n",
       "    }\n",
       "</style>\n",
       "<table border=\"1\" class=\"dataframe\">\n",
       "  <thead>\n",
       "    <tr style=\"text-align: right;\">\n",
       "      <th></th>\n",
       "      <th>Marktwert_EUR</th>\n",
       "      <th>overall</th>\n",
       "      <th>age</th>\n",
       "    </tr>\n",
       "    <tr>\n",
       "      <th>club_name</th>\n",
       "      <th></th>\n",
       "      <th></th>\n",
       "      <th></th>\n",
       "    </tr>\n",
       "  </thead>\n",
       "  <tbody>\n",
       "    <tr>\n",
       "      <th>FC Bayern München</th>\n",
       "      <td>27713636.36</td>\n",
       "      <td>81.05</td>\n",
       "      <td>25.23</td>\n",
       "    </tr>\n",
       "    <tr>\n",
       "      <th>Liverpool</th>\n",
       "      <td>25473484.85</td>\n",
       "      <td>78.58</td>\n",
       "      <td>25.00</td>\n",
       "    </tr>\n",
       "    <tr>\n",
       "      <th>Real Madrid</th>\n",
       "      <td>23776562.50</td>\n",
       "      <td>79.25</td>\n",
       "      <td>24.91</td>\n",
       "    </tr>\n",
       "    <tr>\n",
       "      <th>Manchester City</th>\n",
       "      <td>22644696.97</td>\n",
       "      <td>77.48</td>\n",
       "      <td>24.64</td>\n",
       "    </tr>\n",
       "    <tr>\n",
       "      <th>FC Barcelona</th>\n",
       "      <td>21884848.48</td>\n",
       "      <td>78.91</td>\n",
       "      <td>24.85</td>\n",
       "    </tr>\n",
       "    <tr>\n",
       "      <th>Paris Saint-Germain</th>\n",
       "      <td>20885344.83</td>\n",
       "      <td>76.79</td>\n",
       "      <td>24.48</td>\n",
       "    </tr>\n",
       "    <tr>\n",
       "      <th>Chelsea</th>\n",
       "      <td>18250757.58</td>\n",
       "      <td>79.21</td>\n",
       "      <td>25.58</td>\n",
       "    </tr>\n",
       "    <tr>\n",
       "      <th>Atlético Madrid</th>\n",
       "      <td>17651515.15</td>\n",
       "      <td>77.18</td>\n",
       "      <td>24.79</td>\n",
       "    </tr>\n",
       "    <tr>\n",
       "      <th>Tottenham Hotspur</th>\n",
       "      <td>17318939.39</td>\n",
       "      <td>77.24</td>\n",
       "      <td>24.88</td>\n",
       "    </tr>\n",
       "    <tr>\n",
       "      <th>Manchester United</th>\n",
       "      <td>17094848.48</td>\n",
       "      <td>77.82</td>\n",
       "      <td>25.12</td>\n",
       "    </tr>\n",
       "  </tbody>\n",
       "</table>\n",
       "</div>"
      ],
      "text/plain": [
       "                     Marktwert_EUR  overall    age\n",
       "club_name                                         \n",
       "FC Bayern München      27713636.36    81.05  25.23\n",
       "Liverpool              25473484.85    78.58  25.00\n",
       "Real Madrid            23776562.50    79.25  24.91\n",
       "Manchester City        22644696.97    77.48  24.64\n",
       "FC Barcelona           21884848.48    78.91  24.85\n",
       "Paris Saint-Germain    20885344.83    76.79  24.48\n",
       "Chelsea                18250757.58    79.21  25.58\n",
       "Atlético Madrid        17651515.15    77.18  24.79\n",
       "Tottenham Hotspur      17318939.39    77.24  24.88\n",
       "Manchester United      17094848.48    77.82  25.12"
      ]
     },
     "metadata": {},
     "output_type": "display_data"
    }
   ],
   "source": [
    "print(\"\\nTop 10 Teams nach durchschnittlichem Spielerwert:\")\n",
    "display(team_statistik.nlargest(10, 'Marktwert_EUR'))"
   ]
  },
  {
   "cell_type": "markdown",
   "metadata": {},
   "source": [
    "## 4. Positionsanalyse - Überarbeitet"
   ]
  },
  {
   "cell_type": "code",
   "execution_count": null,
   "metadata": {},
   "outputs": [
    {
     "name": "stdout",
     "output_type": "stream",
     "text": [
      "\n",
      "=== Positionsanalyse ===\n"
     ]
    }
   ],
   "source": [
    "print(\"\\n=== Positionsanalyse ===\")"
   ]
  },
  {
   "cell_type": "markdown",
   "metadata": {},
   "source": [
    "### Durchschnittswerte nach Position"
   ]
  },
  {
   "cell_type": "code",
   "execution_count": null,
   "metadata": {},
   "outputs": [],
   "source": [
    "positions_mapping = {\n",
    "    'GK': 'Torwart',\n",
    "    'CB': 'Verteidigung', 'LB': 'Verteidigung', 'RB': 'Verteidigung', 'LWB': 'Verteidigung', 'RWB': 'Verteidigung',\n",
    "    'CDM': 'Mittelfeld', 'CM': 'Mittelfeld', 'CAM': 'Mittelfeld',\n",
    "    'LM': 'Außenbahn', 'RM': 'Außenbahn', 'LW': 'Außenbahn', 'RW': 'Außenbahn',\n",
    "    'ST': 'Sturm', 'CF': 'Sturm'\n",
    "}"
   ]
  },
  {
   "cell_type": "markdown",
   "metadata": {},
   "source": [
    "#### Neue Spalte mit Hauptpositionen erstellen"
   ]
  },
  {
   "cell_type": "code",
   "execution_count": null,
   "metadata": {},
   "outputs": [],
   "source": [
    "df['Hauptposition'] = df['player_positions'].map(positions_mapping)"
   ]
  },
  {
   "cell_type": "markdown",
   "metadata": {},
   "source": [
    "#### Durchschnittswerte nach Hauptposition berechnen"
   ]
  },
  {
   "cell_type": "code",
   "execution_count": null,
   "metadata": {},
   "outputs": [],
   "source": [
    "positions_statistik = df.groupby('Hauptposition').agg({\n",
    "    'Marktwert_EUR': 'mean',\n",
    "    'overall': 'mean',\n",
    "    'age': 'mean'\n",
    "}).round(2)"
   ]
  },
  {
   "cell_type": "markdown",
   "metadata": {},
   "source": [
    "##### Übersichtlichere Visualisierung erstellen"
   ]
  },
  {
   "cell_type": "code",
   "execution_count": null,
   "metadata": {},
   "outputs": [
    {
     "data": {
      "text/plain": [
       "<Figure size 1000x600 with 0 Axes>"
      ]
     },
     "metadata": {},
     "output_type": "display_data"
    },
    {
     "data": {
      "image/png": "[encoded data removed]",
      "text/plain": [
       "<Figure size 1000x600 with 1 Axes>"
      ]
     },
     "metadata": {},
     "output_type": "display_data"
    }
   ],
   "source": [
    "plt.figure(figsize=(10, 6))\n",
    "sns.boxplot(data=df, x='Hauptposition', y='overall', order=['Torwart', 'Verteidigung', 'Mittelfeld', 'Außenbahn', 'Sturm'])\n",
    "plt.title('Gesamtbewertung nach Spielposition')\n",
    "plt.xlabel('Position')\n",
    "plt.ylabel('Gesamtbewertung')\n",
    "plt.grid(True, alpha=0.3)\n",
    "plt.show()"
   ]
  },
  {
   "cell_type": "markdown",
   "metadata": {},
   "source": [
    "#### Durchschnittswerte"
   ]
  },
  {
   "cell_type": "code",
   "execution_count": null,
   "metadata": {},
   "outputs": [
    {
     "name": "stdout",
     "output_type": "stream",
     "text": [
      "\n",
      "Durchschnittliche Werte nach Position:\n"
     ]
    },
    {
     "data": {
      "text/html": [
       "<div>\n",
       "<style scoped>\n",
       "    .dataframe tbody tr th:only-of-type {\n",
       "        vertical-align: middle;\n",
       "    }\n",
       "\n",
       "    .dataframe tbody tr th {\n",
       "        vertical-align: top;\n",
       "    }\n",
       "\n",
       "    .dataframe thead th {\n",
       "        text-align: right;\n",
       "    }\n",
       "</style>\n",
       "<table border=\"1\" class=\"dataframe\">\n",
       "  <thead>\n",
       "    <tr style=\"text-align: right;\">\n",
       "      <th></th>\n",
       "      <th>Marktwert_EUR</th>\n",
       "      <th>overall</th>\n",
       "      <th>age</th>\n",
       "    </tr>\n",
       "    <tr>\n",
       "      <th>Hauptposition</th>\n",
       "      <th></th>\n",
       "      <th></th>\n",
       "      <th></th>\n",
       "    </tr>\n",
       "  </thead>\n",
       "  <tbody>\n",
       "    <tr>\n",
       "      <th>Außenbahn</th>\n",
       "      <td>2223134.82</td>\n",
       "      <td>64.09</td>\n",
       "      <td>23.52</td>\n",
       "    </tr>\n",
       "    <tr>\n",
       "      <th>Mittelfeld</th>\n",
       "      <td>1577995.80</td>\n",
       "      <td>62.00</td>\n",
       "      <td>23.30</td>\n",
       "    </tr>\n",
       "    <tr>\n",
       "      <th>Sturm</th>\n",
       "      <td>2206077.04</td>\n",
       "      <td>64.94</td>\n",
       "      <td>25.27</td>\n",
       "    </tr>\n",
       "    <tr>\n",
       "      <th>Torwart</th>\n",
       "      <td>1662274.60</td>\n",
       "      <td>64.56</td>\n",
       "      <td>26.25</td>\n",
       "    </tr>\n",
       "    <tr>\n",
       "      <th>Verteidigung</th>\n",
       "      <td>1987426.89</td>\n",
       "      <td>65.66</td>\n",
       "      <td>25.49</td>\n",
       "    </tr>\n",
       "  </tbody>\n",
       "</table>\n",
       "</div>"
      ],
      "text/plain": [
       "               Marktwert_EUR  overall    age\n",
       "Hauptposition                               \n",
       "Außenbahn         2223134.82    64.09  23.52\n",
       "Mittelfeld        1577995.80    62.00  23.30\n",
       "Sturm             2206077.04    64.94  25.27\n",
       "Torwart           1662274.60    64.56  26.25\n",
       "Verteidigung      1987426.89    65.66  25.49"
      ]
     },
     "metadata": {},
     "output_type": "display_data"
    }
   ],
   "source": [
    "print(\"\\nDurchschnittliche Werte nach Position:\")\n",
    "display(positions_statistik)"
   ]
  },
  {
   "cell_type": "markdown",
   "metadata": {},
   "source": [
    "## 5. Korrelationsanalyse"
   ]
  },
  {
   "cell_type": "code",
   "execution_count": null,
   "metadata": {},
   "outputs": [
    {
     "name": "stdout",
     "output_type": "stream",
     "text": [
      "\n",
      "=== Korrelationsanalyse ===\n"
     ]
    }
   ],
   "source": [
    "print(\"\\n=== Korrelationsanalyse ===\")"
   ]
  },
  {
   "cell_type": "markdown",
   "metadata": {},
   "source": [
    "#### Numerische Spalten für Korrelation auswählen"
   ]
  },
  {
   "cell_type": "code",
   "execution_count": null,
   "metadata": {},
   "outputs": [],
   "source": [
    "numerische_spalten = ['overall', 'age', 'Groesse_cm', 'Gewicht_kg', 'Marktwert_EUR', 'Gehalt_EUR']\n",
    "korrelationsmatrix = df[numerische_spalten].corr()"
   ]
  },
  {
   "cell_type": "code",
   "execution_count": null,
   "metadata": {},
   "outputs": [
    {
     "data": {
      "image/png": "[encoded data removed]",
      "text/plain": [
       "<Figure size 1000x800 with 2 Axes>"
      ]
     },
     "metadata": {},
     "output_type": "display_data"
    }
   ],
   "source": [
    "plt.figure(figsize=(10, 8))\n",
    "sns.heatmap(korrelationsmatrix, annot=True, cmap='coolwarm', center=0)\n",
    "plt.title('Korrelationsmatrix der wichtigsten Merkmale')\n",
    "plt.show()"
   ]
  },
  {
   "cell_type": "markdown",
   "metadata": {},
   "source": [
    "## 6. Vertragsanalyse"
   ]
  },
  {
   "cell_type": "code",
   "execution_count": null,
   "metadata": {},
   "outputs": [
    {
     "name": "stdout",
     "output_type": "stream",
     "text": [
      "\n",
      "=== Vertragsanalyse ===\n"
     ]
    }
   ],
   "source": [
    "print(\"\\n=== Vertragsanalyse ===\")"
   ]
  },
  {
   "cell_type": "markdown",
   "metadata": {},
   "source": [
    "#### Vertragslängenverteilung"
   ]
  },
  {
   "cell_type": "markdown",
   "metadata": {},
   "source": [
    "#### Bereinige die Vertragsjahre (nur die Jahreszahl extrahieren)"
   ]
  },
  {
   "cell_type": "code",
   "execution_count": null,
   "metadata": {},
   "outputs": [],
   "source": [
    "def extrahiere_jahr(datum_str):\n",
    "    try:\n",
    "        if pd.isna(datum_str):\n",
    "            return np.nan\n",
    "        return int(str(datum_str)[:4])  # Nimm nur die ersten 4 Zeichen (Jahr)\n",
    "    except:\n",
    "        return np.nan"
   ]
  },
  {
   "cell_type": "markdown",
   "metadata": {},
   "source": [
    "#### Berechne Start- und Endjahr"
   ]
  },
  {
   "cell_type": "code",
   "execution_count": null,
   "metadata": {},
   "outputs": [],
   "source": [
    "df['Vertrag_Start_Jahr'] = df['joined'].apply(extrahiere_jahr)\n",
    "df['Vertrag_End_Jahr'] = df['contract_valid_until'].apply(extrahiere_jahr)"
   ]
  },
  {
   "cell_type": "markdown",
   "metadata": {},
   "source": [
    "#### Berechne Vertragslänge (nur für gültige Werte)"
   ]
  },
  {
   "cell_type": "code",
   "execution_count": null,
   "metadata": {},
   "outputs": [],
   "source": [
    "df['Vertragslänge'] = df['Vertrag_End_Jahr'] - df['Vertrag_Start_Jahr']"
   ]
  },
  {
   "cell_type": "markdown",
   "metadata": {},
   "source": [
    "#### Filtere ungültige Werte raus"
   ]
  },
  {
   "cell_type": "code",
   "execution_count": null,
   "metadata": {},
   "outputs": [],
   "source": [
    "gueltige_vertraege = df[df['Vertragslänge'].between(0, 10)]  # Nur realistische Vertragslängen"
   ]
  },
  {
   "cell_type": "code",
   "execution_count": 104,
   "metadata": {},
   "outputs": [],
   "source": [
    "plt.figure(figsize=(10, 6))\n",
    "sns.histplot(data=gueltige_vertraege, x='Vertragslänge', bins=10)\n",
    "plt.title('Verteilung der Vertragslängen')\n",
    "plt.xlabel('Vertragslänge in Jahren')\n",
    "plt.ylabel('Anzahl der Spieler')\n",
    "plt.grid(True, alpha=0.3)"
   ]
  },
  {
   "cell_type": "markdown",
   "metadata": {},
   "source": [
    "#### Durchschnittslinie hinzufügen"
   ]
  },
  {
   "cell_type": "code",
   "execution_count": 105,
   "metadata": {},
   "outputs": [
    {
     "data": {
      "image/png": "[encoded data removed]",
      "text/plain": [
       "<Figure size 1000x600 with 1 Axes>"
      ]
     },
     "metadata": {},
     "output_type": "display_data"
    }
   ],
   "source": [
    "plt.axvline(gueltige_vertraege['Vertragslänge'].mean(), \n",
    "            color='red', \n",
    "            linestyle='--', \n",
    "            label=f'Durchschnitt: {gueltige_vertraege[\"Vertragslänge\"].mean():.1f} Jahre')\n",
    "plt.legend()\n",
    "plt.show()"
   ]
  },
  {
   "cell_type": "markdown",
   "metadata": {},
   "source": [
    "### Statistiken zu Vertragslängen:"
   ]
  },
  {
   "cell_type": "code",
   "execution_count": 107,
   "metadata": {},
   "outputs": [
    {
     "name": "stdout",
     "output_type": "stream",
     "text": [
      "Durchschnittliche Vertragslänge: 3.6 Jahre\n",
      "Häufigste Vertragslänge: 3.0 Jahre\n",
      "Minimale Vertragslänge: 0.0 Jahre\n",
      "Maximale Vertragslänge: 10.0 Jahre\n"
     ]
    }
   ],
   "source": [
    "print(f\"Durchschnittliche Vertragslänge: {gueltige_vertraege['Vertragslänge'].mean():.1f} Jahre\")\n",
    "print(f\"Häufigste Vertragslänge: {gueltige_vertraege['Vertragslänge'].mode().iloc[0]} Jahre\")\n",
    "print(f\"Minimale Vertragslänge: {gueltige_vertraege['Vertragslänge'].min()} Jahre\")\n",
    "print(f\"Maximale Vertragslänge: {gueltige_vertraege['Vertragslänge'].max()} Jahre\")"
   ]
  },
  {
   "cell_type": "markdown",
   "metadata": {},
   "source": []
  }
 ],
 "metadata": {
  "kernelspec": {
   "display_name": "EnvScience",
   "language": "python",
   "name": "python3"
  },
  "language_info": {
   "codemirror_mode": {
    "name": "ipython",
    "version": 3
   },
   "file_extension": ".py",
   "mimetype": "text/x-python",
   "name": "python",
   "nbconvert_exporter": "python",
   "pygments_lexer": "ipython3",
   "version": "3.12.2"
  }
 },
 "nbformat": 4,
 "nbformat_minor": 2
}
